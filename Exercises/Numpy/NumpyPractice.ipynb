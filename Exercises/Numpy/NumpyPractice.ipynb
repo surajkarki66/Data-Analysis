{
 "cells": [
  {
   "cell_type": "code",
   "execution_count": 58,
   "metadata": {},
   "outputs": [],
   "source": [
    "# 63 Practice questions"
   ]
  },
  {
   "cell_type": "code",
   "execution_count": 2,
   "metadata": {},
   "outputs": [],
   "source": [
    "# 1)  Import the numpy package under the name `np`\n",
    "import numpy as np"
   ]
  },
  {
   "cell_type": "code",
   "execution_count": 60,
   "metadata": {},
   "outputs": [
    {
     "data": {
      "text/plain": [
       "('1.18.1',\n",
       " <module 'numpy.__config__' from '/home/surajkarki/anaconda3/lib/python3.7/site-packages/numpy/__config__.py'>)"
      ]
     },
     "execution_count": 60,
     "metadata": {},
     "output_type": "execute_result"
    }
   ],
   "source": [
    "# 2) Print the numpy version and the configuration \n",
    "np.__version__, np.__config__"
   ]
  },
  {
   "cell_type": "code",
   "execution_count": 61,
   "metadata": {},
   "outputs": [
    {
     "data": {
      "text/plain": [
       "array([0., 0., 0., 0., 0., 0., 0., 0., 0., 0.])"
      ]
     },
     "execution_count": 61,
     "metadata": {},
     "output_type": "execute_result"
    }
   ],
   "source": [
    "# 3) Create a null vector of size 10\n",
    "np.zeros(10)"
   ]
  },
  {
   "cell_type": "code",
   "execution_count": 62,
   "metadata": {},
   "outputs": [
    {
     "name": "stdout",
     "output_type": "stream",
     "text": [
      "40 bytes\n"
     ]
    }
   ],
   "source": [
    "# 4) How to find the memory size of any array \n",
    "arr = np.ones(5)\n",
    "arr\n",
    "print(\"%d bytes\" % (arr.size * arr.itemsize))"
   ]
  },
  {
   "cell_type": "code",
   "execution_count": 63,
   "metadata": {},
   "outputs": [
    {
     "name": "stdout",
     "output_type": "stream",
     "text": [
      "add(x1, x2, /, out=None, *, where=True, casting='same_kind', order='K', dtype=None, subok=True[, signature, extobj])\n",
      "\n",
      "Add arguments element-wise.\n",
      "\n",
      "Parameters\n",
      "----------\n",
      "x1, x2 : array_like\n",
      "    The arrays to be added. If ``x1.shape != x2.shape``, they must be broadcastable to a common shape (which becomes the shape of the output).\n",
      "out : ndarray, None, or tuple of ndarray and None, optional\n",
      "    A location into which the result is stored. If provided, it must have\n",
      "    a shape that the inputs broadcast to. If not provided or None,\n",
      "    a freshly-allocated array is returned. A tuple (possible only as a\n",
      "    keyword argument) must have length equal to the number of outputs.\n",
      "where : array_like, optional\n",
      "    This condition is broadcast over the input. At locations where the\n",
      "    condition is True, the `out` array will be set to the ufunc result.\n",
      "    Elsewhere, the `out` array will retain its original value.\n",
      "    Note that if an uninitialized `out` array is created via the default\n",
      "    ``out=None``, locations within it where the condition is False will\n",
      "    remain uninitialized.\n",
      "**kwargs\n",
      "    For other keyword-only arguments, see the\n",
      "    :ref:`ufunc docs <ufuncs.kwargs>`.\n",
      "\n",
      "Returns\n",
      "-------\n",
      "add : ndarray or scalar\n",
      "    The sum of `x1` and `x2`, element-wise.\n",
      "    This is a scalar if both `x1` and `x2` are scalars.\n",
      "\n",
      "Notes\n",
      "-----\n",
      "Equivalent to `x1` + `x2` in terms of array broadcasting.\n",
      "\n",
      "Examples\n",
      "--------\n",
      ">>> np.add(1.0, 4.0)\n",
      "5.0\n",
      ">>> x1 = np.arange(9.0).reshape((3, 3))\n",
      ">>> x2 = np.arange(3.0)\n",
      ">>> np.add(x1, x2)\n",
      "array([[  0.,   2.,   4.],\n",
      "       [  3.,   5.,   7.],\n",
      "       [  6.,   8.,  10.]])\n"
     ]
    }
   ],
   "source": [
    "# 5) How to get the documentation of the numpy add function ?\n",
    "np.info(np.add)"
   ]
  },
  {
   "cell_type": "code",
   "execution_count": 64,
   "metadata": {},
   "outputs": [
    {
     "data": {
      "text/plain": [
       "array([0., 0., 0., 0., 0., 1., 0., 0., 0., 0.])"
      ]
     },
     "execution_count": 64,
     "metadata": {},
     "output_type": "execute_result"
    }
   ],
   "source": [
    "# 6) Create a null vector of size 10 but the fifth value which is 1 \n",
    "arr = np.zeros(10)\n",
    "arr[5] = 1\n",
    "arr"
   ]
  },
  {
   "cell_type": "code",
   "execution_count": 65,
   "metadata": {},
   "outputs": [
    {
     "data": {
      "text/plain": [
       "array([10, 11, 12, 13, 14, 15, 16, 17, 18, 19, 20, 21, 22, 23, 24, 25, 26,\n",
       "       27, 28, 29, 30, 31, 32, 33, 34, 35, 36, 37, 38, 39, 40, 41, 42, 43,\n",
       "       44, 45, 46, 47, 48])"
      ]
     },
     "execution_count": 65,
     "metadata": {},
     "output_type": "execute_result"
    }
   ],
   "source": [
    "# 7)  Create a vector with values ranging from 10 to 49\n",
    "vector = np.arange(10, 49)\n",
    "vector"
   ]
  },
  {
   "cell_type": "code",
   "execution_count": 66,
   "metadata": {},
   "outputs": [
    {
     "data": {
      "text/plain": [
       "array([9, 8, 7, 6, 5, 4, 3, 2, 1, 0])"
      ]
     },
     "execution_count": 66,
     "metadata": {},
     "output_type": "execute_result"
    }
   ],
   "source": [
    "# 8) Reverse a vector (first element becomes last)\n",
    "vector = np.arange(10)\n",
    "vector\n",
    "vector = vector[::-1]\n",
    "vector"
   ]
  },
  {
   "cell_type": "code",
   "execution_count": 67,
   "metadata": {},
   "outputs": [
    {
     "data": {
      "text/plain": [
       "array([[0, 1, 2],\n",
       "       [3, 4, 5],\n",
       "       [6, 7, 8]])"
      ]
     },
     "execution_count": 67,
     "metadata": {},
     "output_type": "execute_result"
    }
   ],
   "source": [
    "# 9) Create a 3x3 matrix with values ranging from 0 to 8\n",
    "arr = np.arange(0, 9).reshape(3, 3)\n",
    "arr"
   ]
  },
  {
   "cell_type": "code",
   "execution_count": 68,
   "metadata": {},
   "outputs": [
    {
     "data": {
      "text/plain": [
       "(array([0, 1, 2, 5]),)"
      ]
     },
     "execution_count": 68,
     "metadata": {},
     "output_type": "execute_result"
    }
   ],
   "source": [
    "# 10) Find indices of non-zero elements from [1,2,0,0,4,0] \n",
    "arr = np.array([1, 2, 3, 0, 0, 4, 0])\n",
    "np.nonzero(arr)\n"
   ]
  },
  {
   "cell_type": "code",
   "execution_count": 69,
   "metadata": {},
   "outputs": [
    {
     "data": {
      "text/plain": [
       "array([[1., 0., 0.],\n",
       "       [0., 1., 0.],\n",
       "       [0., 0., 1.]])"
      ]
     },
     "execution_count": 69,
     "metadata": {},
     "output_type": "execute_result"
    }
   ],
   "source": [
    "# 11)  Create a 3x3 identity matrix \n",
    "arr = np.eye(3, 3)\n",
    "arr"
   ]
  },
  {
   "cell_type": "code",
   "execution_count": 70,
   "metadata": {},
   "outputs": [
    {
     "data": {
      "text/plain": [
       "array([[[0.14581751, 0.94335006, 0.31412022],\n",
       "        [0.65992007, 0.55034759, 0.58802064],\n",
       "        [0.82466971, 0.91392809, 0.26313193]],\n",
       "\n",
       "       [[0.118404  , 0.79602539, 0.10191411],\n",
       "        [0.33436933, 0.89614094, 0.71515092],\n",
       "        [0.52714163, 0.01291028, 0.02694888]],\n",
       "\n",
       "       [[0.366698  , 0.62290906, 0.91819225],\n",
       "        [0.91872718, 0.70419998, 0.53466836],\n",
       "        [0.57796298, 0.3016151 , 0.20410482]]])"
      ]
     },
     "execution_count": 70,
     "metadata": {},
     "output_type": "execute_result"
    }
   ],
   "source": [
    "# 12) Create a 3x3x3 array with random values\n",
    "arr = np.random.random(27)\n",
    "arr.reshape(3,3,3)"
   ]
  },
  {
   "cell_type": "code",
   "execution_count": 71,
   "metadata": {},
   "outputs": [
    {
     "data": {
      "text/plain": [
       "array([[0.41741993, 0.86692236, 0.71107943, 0.01976636, 0.9453461 ,\n",
       "        0.53458888, 0.32759059, 0.99023305, 0.35547474, 0.72877245],\n",
       "       [0.06984945, 0.63333906, 0.00171241, 0.53293059, 0.19292557,\n",
       "        0.1949821 , 0.33813498, 0.20307024, 0.96491298, 0.37203151],\n",
       "       [0.77208411, 0.19059801, 0.01620743, 0.33210043, 0.5627989 ,\n",
       "        0.16841431, 0.97709621, 0.84283144, 0.48701083, 0.11117543],\n",
       "       [0.71536625, 0.23855901, 0.92354576, 0.46104761, 0.64578817,\n",
       "        0.08594894, 0.07106433, 0.78849799, 0.74633064, 0.07437788],\n",
       "       [0.28563456, 0.08810686, 0.14605092, 0.95437875, 0.45277132,\n",
       "        0.03240799, 0.84879519, 0.18416821, 0.53497197, 0.25547509],\n",
       "       [0.47328675, 0.66378185, 0.24574932, 0.71305936, 0.41239037,\n",
       "        0.86642893, 0.63921743, 0.29679719, 0.38147411, 0.30488263],\n",
       "       [0.21179071, 0.09244875, 0.15745351, 0.15443296, 0.57618458,\n",
       "        0.12102312, 0.60362804, 0.82926128, 0.03238354, 0.82016648],\n",
       "       [0.17958599, 0.00752754, 0.83511274, 0.30410194, 0.00481984,\n",
       "        0.29285751, 0.13183457, 0.89474238, 0.2777433 , 0.72341344],\n",
       "       [0.2803409 , 0.43851238, 0.52978531, 0.51307417, 0.38584429,\n",
       "        0.1482678 , 0.12035295, 0.68751052, 0.54989207, 0.24036143],\n",
       "       [0.91569961, 0.65697003, 0.49757454, 0.59561878, 0.80626544,\n",
       "        0.20578105, 0.40950842, 0.91466265, 0.82980261, 0.30085363]])"
      ]
     },
     "execution_count": 71,
     "metadata": {},
     "output_type": "execute_result"
    }
   ],
   "source": [
    "# 13)  Create a 10x10 array with random values and find the minimum and maximum values\n",
    "arr = np.random.random(100).reshape(10, 10)\n",
    "arr"
   ]
  },
  {
   "cell_type": "code",
   "execution_count": 72,
   "metadata": {},
   "outputs": [
    {
     "data": {
      "text/plain": [
       "7"
      ]
     },
     "execution_count": 72,
     "metadata": {},
     "output_type": "execute_result"
    }
   ],
   "source": [
    "np.argmax(arr)"
   ]
  },
  {
   "cell_type": "code",
   "execution_count": 73,
   "metadata": {},
   "outputs": [
    {
     "data": {
      "text/plain": [
       "12"
      ]
     },
     "execution_count": 73,
     "metadata": {},
     "output_type": "execute_result"
    }
   ],
   "source": [
    "np.argmin(arr)"
   ]
  },
  {
   "cell_type": "code",
   "execution_count": 74,
   "metadata": {},
   "outputs": [
    {
     "data": {
      "text/plain": [
       "array([0.11737669, 0.35907656, 0.15949531, 0.64180349, 0.24971947,\n",
       "       0.48698803, 0.62585607, 0.7333427 , 0.6417441 , 0.37048024,\n",
       "       0.441941  , 0.20045965, 0.91289175, 0.6133145 , 0.61101251,\n",
       "       0.65502174, 0.0205514 , 0.23474284, 0.53363923, 0.02448882,\n",
       "       0.88707538, 0.32384302, 0.71382465, 0.57954   , 0.56917629,\n",
       "       0.07514271, 0.38159759, 0.17594291, 0.84881406, 0.93909578])"
      ]
     },
     "execution_count": 74,
     "metadata": {},
     "output_type": "execute_result"
    }
   ],
   "source": [
    "# 14) Create a random vector of size 30 and find the mean value \n",
    "arr = np.random.random(30)\n",
    "arr"
   ]
  },
  {
   "cell_type": "code",
   "execution_count": 75,
   "metadata": {},
   "outputs": [
    {
     "data": {
      "text/plain": [
       "0.4709332822189216"
      ]
     },
     "execution_count": 75,
     "metadata": {},
     "output_type": "execute_result"
    }
   ],
   "source": [
    "arr.mean()"
   ]
  },
  {
   "cell_type": "code",
   "execution_count": 76,
   "metadata": {},
   "outputs": [
    {
     "data": {
      "text/plain": [
       "array([[1., 1., 1.],\n",
       "       [1., 0., 1.],\n",
       "       [1., 1., 1.]])"
      ]
     },
     "execution_count": 76,
     "metadata": {},
     "output_type": "execute_result"
    }
   ],
   "source": [
    "# 15) Create a 2d array with 1 on the border and 0 inside \n",
    "arr = np.ones(9).reshape(3, 3)\n",
    "arr[1][1] = 0\n",
    "arr"
   ]
  },
  {
   "cell_type": "code",
   "execution_count": 77,
   "metadata": {},
   "outputs": [
    {
     "data": {
      "text/plain": [
       "array([[0, 0, 0, 0],\n",
       "       [0, 0, 1, 0],\n",
       "       [0, 2, 3, 0],\n",
       "       [0, 0, 0, 0]])"
      ]
     },
     "execution_count": 77,
     "metadata": {},
     "output_type": "execute_result"
    }
   ],
   "source": [
    "# 16) How to add a border (filled with 0's) around an existing array? \n",
    "arr = np.arange(4).reshape(2,2)\n",
    "arr\n",
    "np.pad(arr, pad_width=1)"
   ]
  },
  {
   "cell_type": "code",
   "execution_count": 78,
   "metadata": {},
   "outputs": [
    {
     "data": {
      "text/plain": [
       "array([[0, 0, 0, 0, 0],\n",
       "       [1, 0, 0, 0, 0],\n",
       "       [0, 2, 0, 0, 0],\n",
       "       [0, 0, 3, 0, 0],\n",
       "       [0, 0, 0, 4, 0]])"
      ]
     },
     "execution_count": 78,
     "metadata": {},
     "output_type": "execute_result"
    }
   ],
   "source": [
    "# 17) Create a 5x5 matrix with values 1,2,3,4 just below the diagonal \n",
    "arr = np.diag(1+np.arange(4),k=-1)\n",
    "arr"
   ]
  },
  {
   "cell_type": "code",
   "execution_count": 79,
   "metadata": {},
   "outputs": [
    {
     "data": {
      "text/plain": [
       "array([[ 0,  1,  2,  3,  4,  5,  6,  7],\n",
       "       [16, 17, 18, 19, 20, 21, 22, 23],\n",
       "       [32, 33, 34, 35, 36, 37, 38, 39],\n",
       "       [48, 49, 50, 51, 52, 53, 54, 55]])"
      ]
     },
     "execution_count": 79,
     "metadata": {},
     "output_type": "execute_result"
    }
   ],
   "source": [
    "# 18)  Create a 8x8 matrix and fill it with a checkerboard pattern \n",
    "arr = np.arange(64).reshape(8, 8)\n",
    "arr[::2]"
   ]
  },
  {
   "cell_type": "code",
   "execution_count": 86,
   "metadata": {
    "scrolled": false
   },
   "outputs": [
    {
     "data": {
      "text/plain": [
       "(array([[[0, 0, 0, 0, 0, 0, 0, 0],\n",
       "         [0, 0, 0, 0, 0, 0, 0, 0],\n",
       "         [0, 0, 0, 0, 0, 0, 0, 0],\n",
       "         [0, 0, 0, 0, 0, 0, 0, 0],\n",
       "         [0, 0, 0, 0, 0, 0, 0, 0],\n",
       "         [0, 0, 0, 0, 0, 0, 0, 0],\n",
       "         [0, 0, 0, 0, 0, 0, 0, 0]],\n",
       " \n",
       "        [[1, 1, 1, 1, 1, 1, 1, 1],\n",
       "         [1, 1, 1, 1, 1, 1, 1, 1],\n",
       "         [1, 1, 1, 1, 1, 1, 1, 1],\n",
       "         [1, 1, 1, 1, 1, 1, 1, 1],\n",
       "         [1, 1, 1, 1, 1, 1, 1, 1],\n",
       "         [1, 1, 1, 1, 1, 1, 1, 1],\n",
       "         [1, 1, 1, 1, 1, 1, 1, 1]],\n",
       " \n",
       "        [[2, 2, 2, 2, 2, 2, 2, 2],\n",
       "         [2, 2, 2, 2, 2, 2, 2, 2],\n",
       "         [2, 2, 2, 2, 2, 2, 2, 2],\n",
       "         [2, 2, 2, 2, 2, 2, 2, 2],\n",
       "         [2, 2, 2, 2, 2, 2, 2, 2],\n",
       "         [2, 2, 2, 2, 2, 2, 2, 2],\n",
       "         [2, 2, 2, 2, 2, 2, 2, 2]],\n",
       " \n",
       "        [[3, 3, 3, 3, 3, 3, 3, 3],\n",
       "         [3, 3, 3, 3, 3, 3, 3, 3],\n",
       "         [3, 3, 3, 3, 3, 3, 3, 3],\n",
       "         [3, 3, 3, 3, 3, 3, 3, 3],\n",
       "         [3, 3, 3, 3, 3, 3, 3, 3],\n",
       "         [3, 3, 3, 3, 3, 3, 3, 3],\n",
       "         [3, 3, 3, 3, 3, 3, 3, 3]],\n",
       " \n",
       "        [[4, 4, 4, 4, 4, 4, 4, 4],\n",
       "         [4, 4, 4, 4, 4, 4, 4, 4],\n",
       "         [4, 4, 4, 4, 4, 4, 4, 4],\n",
       "         [4, 4, 4, 4, 4, 4, 4, 4],\n",
       "         [4, 4, 4, 4, 4, 4, 4, 4],\n",
       "         [4, 4, 4, 4, 4, 4, 4, 4],\n",
       "         [4, 4, 4, 4, 4, 4, 4, 4]],\n",
       " \n",
       "        [[5, 5, 5, 5, 5, 5, 5, 5],\n",
       "         [5, 5, 5, 5, 5, 5, 5, 5],\n",
       "         [5, 5, 5, 5, 5, 5, 5, 5],\n",
       "         [5, 5, 5, 5, 5, 5, 5, 5],\n",
       "         [5, 5, 5, 5, 5, 5, 5, 5],\n",
       "         [5, 5, 5, 5, 5, 5, 5, 5],\n",
       "         [5, 5, 5, 5, 5, 5, 5, 5]]]),\n",
       " array([[[0, 0, 0, 0, 0, 0, 0, 0],\n",
       "         [1, 1, 1, 1, 1, 1, 1, 1],\n",
       "         [2, 2, 2, 2, 2, 2, 2, 2],\n",
       "         [3, 3, 3, 3, 3, 3, 3, 3],\n",
       "         [4, 4, 4, 4, 4, 4, 4, 4],\n",
       "         [5, 5, 5, 5, 5, 5, 5, 5],\n",
       "         [6, 6, 6, 6, 6, 6, 6, 6]],\n",
       " \n",
       "        [[0, 0, 0, 0, 0, 0, 0, 0],\n",
       "         [1, 1, 1, 1, 1, 1, 1, 1],\n",
       "         [2, 2, 2, 2, 2, 2, 2, 2],\n",
       "         [3, 3, 3, 3, 3, 3, 3, 3],\n",
       "         [4, 4, 4, 4, 4, 4, 4, 4],\n",
       "         [5, 5, 5, 5, 5, 5, 5, 5],\n",
       "         [6, 6, 6, 6, 6, 6, 6, 6]],\n",
       " \n",
       "        [[0, 0, 0, 0, 0, 0, 0, 0],\n",
       "         [1, 1, 1, 1, 1, 1, 1, 1],\n",
       "         [2, 2, 2, 2, 2, 2, 2, 2],\n",
       "         [3, 3, 3, 3, 3, 3, 3, 3],\n",
       "         [4, 4, 4, 4, 4, 4, 4, 4],\n",
       "         [5, 5, 5, 5, 5, 5, 5, 5],\n",
       "         [6, 6, 6, 6, 6, 6, 6, 6]],\n",
       " \n",
       "        [[0, 0, 0, 0, 0, 0, 0, 0],\n",
       "         [1, 1, 1, 1, 1, 1, 1, 1],\n",
       "         [2, 2, 2, 2, 2, 2, 2, 2],\n",
       "         [3, 3, 3, 3, 3, 3, 3, 3],\n",
       "         [4, 4, 4, 4, 4, 4, 4, 4],\n",
       "         [5, 5, 5, 5, 5, 5, 5, 5],\n",
       "         [6, 6, 6, 6, 6, 6, 6, 6]],\n",
       " \n",
       "        [[0, 0, 0, 0, 0, 0, 0, 0],\n",
       "         [1, 1, 1, 1, 1, 1, 1, 1],\n",
       "         [2, 2, 2, 2, 2, 2, 2, 2],\n",
       "         [3, 3, 3, 3, 3, 3, 3, 3],\n",
       "         [4, 4, 4, 4, 4, 4, 4, 4],\n",
       "         [5, 5, 5, 5, 5, 5, 5, 5],\n",
       "         [6, 6, 6, 6, 6, 6, 6, 6]],\n",
       " \n",
       "        [[0, 0, 0, 0, 0, 0, 0, 0],\n",
       "         [1, 1, 1, 1, 1, 1, 1, 1],\n",
       "         [2, 2, 2, 2, 2, 2, 2, 2],\n",
       "         [3, 3, 3, 3, 3, 3, 3, 3],\n",
       "         [4, 4, 4, 4, 4, 4, 4, 4],\n",
       "         [5, 5, 5, 5, 5, 5, 5, 5],\n",
       "         [6, 6, 6, 6, 6, 6, 6, 6]]]),\n",
       " array([[[0, 1, 2, 3, 4, 5, 6, 7],\n",
       "         [0, 1, 2, 3, 4, 5, 6, 7],\n",
       "         [0, 1, 2, 3, 4, 5, 6, 7],\n",
       "         [0, 1, 2, 3, 4, 5, 6, 7],\n",
       "         [0, 1, 2, 3, 4, 5, 6, 7],\n",
       "         [0, 1, 2, 3, 4, 5, 6, 7],\n",
       "         [0, 1, 2, 3, 4, 5, 6, 7]],\n",
       " \n",
       "        [[0, 1, 2, 3, 4, 5, 6, 7],\n",
       "         [0, 1, 2, 3, 4, 5, 6, 7],\n",
       "         [0, 1, 2, 3, 4, 5, 6, 7],\n",
       "         [0, 1, 2, 3, 4, 5, 6, 7],\n",
       "         [0, 1, 2, 3, 4, 5, 6, 7],\n",
       "         [0, 1, 2, 3, 4, 5, 6, 7],\n",
       "         [0, 1, 2, 3, 4, 5, 6, 7]],\n",
       " \n",
       "        [[0, 1, 2, 3, 4, 5, 6, 7],\n",
       "         [0, 1, 2, 3, 4, 5, 6, 7],\n",
       "         [0, 1, 2, 3, 4, 5, 6, 7],\n",
       "         [0, 1, 2, 3, 4, 5, 6, 7],\n",
       "         [0, 1, 2, 3, 4, 5, 6, 7],\n",
       "         [0, 1, 2, 3, 4, 5, 6, 7],\n",
       "         [0, 1, 2, 3, 4, 5, 6, 7]],\n",
       " \n",
       "        [[0, 1, 2, 3, 4, 5, 6, 7],\n",
       "         [0, 1, 2, 3, 4, 5, 6, 7],\n",
       "         [0, 1, 2, 3, 4, 5, 6, 7],\n",
       "         [0, 1, 2, 3, 4, 5, 6, 7],\n",
       "         [0, 1, 2, 3, 4, 5, 6, 7],\n",
       "         [0, 1, 2, 3, 4, 5, 6, 7],\n",
       "         [0, 1, 2, 3, 4, 5, 6, 7]],\n",
       " \n",
       "        [[0, 1, 2, 3, 4, 5, 6, 7],\n",
       "         [0, 1, 2, 3, 4, 5, 6, 7],\n",
       "         [0, 1, 2, 3, 4, 5, 6, 7],\n",
       "         [0, 1, 2, 3, 4, 5, 6, 7],\n",
       "         [0, 1, 2, 3, 4, 5, 6, 7],\n",
       "         [0, 1, 2, 3, 4, 5, 6, 7],\n",
       "         [0, 1, 2, 3, 4, 5, 6, 7]],\n",
       " \n",
       "        [[0, 1, 2, 3, 4, 5, 6, 7],\n",
       "         [0, 1, 2, 3, 4, 5, 6, 7],\n",
       "         [0, 1, 2, 3, 4, 5, 6, 7],\n",
       "         [0, 1, 2, 3, 4, 5, 6, 7],\n",
       "         [0, 1, 2, 3, 4, 5, 6, 7],\n",
       "         [0, 1, 2, 3, 4, 5, 6, 7],\n",
       "         [0, 1, 2, 3, 4, 5, 6, 7]]]))"
      ]
     },
     "execution_count": 86,
     "metadata": {},
     "output_type": "execute_result"
    }
   ],
   "source": [
    "# 19) Consider a (6,7,8) shape array, what is the index (x,y,z) of the 100th element?\n",
    "arr = np.arange(6*7*8).reshape(6, 7, 8)\n",
    "np.unravel_index(arr, shape=(6, 7, 8))"
   ]
  },
  {
   "cell_type": "code",
   "execution_count": 10,
   "metadata": {},
   "outputs": [
    {
     "data": {
      "text/plain": [
       "array([[ 1.42093406, -0.95665863,  0.06234821, -0.45852018, -1.95244165],\n",
       "       [ 0.28949792, -1.11101202, -1.60752935, -0.04883275, -0.05432397],\n",
       "       [ 0.30189125,  1.41910021,  2.19343013,  0.79616281,  1.16620228],\n",
       "       [ 0.46122936,  0.36171466, -0.9312588 , -0.6190392 , -0.25175397],\n",
       "       [ 0.70830447, -0.91585273,  1.00453077, -0.19287567, -1.08524723]])"
      ]
     },
     "execution_count": 10,
     "metadata": {},
     "output_type": "execute_result"
    }
   ],
   "source": [
    "# 20) Normalize a 5x5 random matrix \n",
    "mat = np.random.randn(5, 5)\n",
    "mean = mat.mean()\n",
    "std = mat.std()\n",
    "(mat - mean) / std"
   ]
  },
  {
   "cell_type": "code",
   "execution_count": 15,
   "metadata": {},
   "outputs": [
    {
     "name": "stderr",
     "output_type": "stream",
     "text": [
      "/home/surajkarki/anaconda3/lib/python3.7/site-packages/ipykernel_launcher.py:5: FutureWarning: Passing (type, 1) or '1type' as a synonym of type is deprecated; in a future version of numpy, it will be understood as (type, (1,)) / '(1,)type'.\n",
      "  \"\"\"\n"
     ]
    }
   ],
   "source": [
    "# 21)  Create a custom dtype that describes a color as four unsigned bytes (RGBA)\n",
    "color = np.dtype([('r', np.ubyte, 1),\n",
    "                  ('g', np.ubyte, 1),\n",
    "                  ('b', np.ubyte, 1),\n",
    "                  ('a', np.ubyte, 1)])\n"
   ]
  },
  {
   "cell_type": "code",
   "execution_count": 16,
   "metadata": {},
   "outputs": [
    {
     "data": {
      "text/plain": [
       "dtype([('r', 'u1'), ('g', 'u1'), ('b', 'u1'), ('a', 'u1')])"
      ]
     },
     "execution_count": 16,
     "metadata": {},
     "output_type": "execute_result"
    }
   ],
   "source": [
    "color"
   ]
  },
  {
   "cell_type": "code",
   "execution_count": 23,
   "metadata": {},
   "outputs": [
    {
     "data": {
      "text/plain": [
       "array([[ 10,  13],\n",
       "       [ 28,  40],\n",
       "       [ 46,  67],\n",
       "       [ 64,  94],\n",
       "       [ 82, 121]])"
      ]
     },
     "execution_count": 23,
     "metadata": {},
     "output_type": "execute_result"
    }
   ],
   "source": [
    "# 22) Multiply a 5x3 matrix by a 3x2 matrix \n",
    "x = np.arange(15).reshape(5,  3)\n",
    "y = np.arange(6).reshape(3, 2)\n",
    "\n",
    "np.dot(x, y)"
   ]
  },
  {
   "cell_type": "code",
   "execution_count": 26,
   "metadata": {},
   "outputs": [],
   "source": [
    "# 23)   Given a 1D array, negate all elements which are between 3 and 8, in place.\n",
    "arr = np.arange(10)\n",
    "arr[(arr>3) & (arr<=8)] *= -1"
   ]
  },
  {
   "cell_type": "code",
   "execution_count": 27,
   "metadata": {},
   "outputs": [
    {
     "data": {
      "text/plain": [
       "array([ 0,  1,  2,  3, -4, -5, -6, -7, -8,  9])"
      ]
     },
     "execution_count": 27,
     "metadata": {},
     "output_type": "execute_result"
    }
   ],
   "source": [
    "arr"
   ]
  },
  {
   "cell_type": "code",
   "execution_count": 15,
   "metadata": {},
   "outputs": [
    {
     "data": {
      "text/plain": [
       "array([-10.,  -9.,  -7.,   5., -10.,   8.,  -6.,   4.,   8.,   4.])"
      ]
     },
     "execution_count": 15,
     "metadata": {},
     "output_type": "execute_result"
    }
   ],
   "source": [
    "# 24. How to round away from zero a float array ?\n",
    "arr = np.random.uniform(-10, 10, 10)\n",
    "np.copysign(np.ceil(np.abs(arr)), arr)\n"
   ]
  },
  {
   "cell_type": "code",
   "execution_count": 21,
   "metadata": {},
   "outputs": [
    {
     "data": {
      "text/plain": [
       "array([4])"
      ]
     },
     "execution_count": 21,
     "metadata": {},
     "output_type": "execute_result"
    }
   ],
   "source": [
    "# 25)  How to find common values between two arrays?\n",
    "x = np.random.randint(5)\n",
    "y = np.random.randint(5)\n",
    "\n",
    "common   = np.intersect1d(x, y)\n",
    "common\n"
   ]
  },
  {
   "cell_type": "code",
   "execution_count": 30,
   "metadata": {},
   "outputs": [
    {
     "data": {
      "text/plain": [
       "numpy.datetime64('2020-03-27')"
      ]
     },
     "execution_count": 30,
     "metadata": {},
     "output_type": "execute_result"
    }
   ],
   "source": [
    "# 26)  How to get the dates of yesterday, today and tomorrow? \n",
    "today = np.datetime64('today', 'D')\n",
    "yesterday = np.datetime64('today', 'D') - np.timedelta64(1, 'D')\n",
    "tommorow = np.datetime64('today', 'D') + np.timedelta64(1, 'D')\n",
    "today\n",
    "yesterday\n",
    "tommorow"
   ]
  },
  {
   "cell_type": "code",
   "execution_count": 41,
   "metadata": {},
   "outputs": [
    {
     "data": {
      "text/plain": [
       "array(['2020-07-01', '2020-07-02', '2020-07-03', '2020-07-04',\n",
       "       '2020-07-05', '2020-07-06', '2020-07-07', '2020-07-08',\n",
       "       '2020-07-09', '2020-07-10', '2020-07-11', '2020-07-12',\n",
       "       '2020-07-13', '2020-07-14', '2020-07-15', '2020-07-16',\n",
       "       '2020-07-17', '2020-07-18', '2020-07-19', '2020-07-20',\n",
       "       '2020-07-21', '2020-07-22', '2020-07-23', '2020-07-24',\n",
       "       '2020-07-25', '2020-07-26', '2020-07-27', '2020-07-28',\n",
       "       '2020-07-29', '2020-07-30', '2020-07-31'], dtype='datetime64[D]')"
      ]
     },
     "execution_count": 41,
     "metadata": {},
     "output_type": "execute_result"
    }
   ],
   "source": [
    "# 27) How to get all the dates corresponding to the month of July 2020?\n",
    "month = np.arange('2020-07', '2020-08', dtype='datetime64[D]')\n",
    "month"
   ]
  },
  {
   "cell_type": "code",
   "execution_count": 42,
   "metadata": {},
   "outputs": [
    {
     "data": {
      "text/plain": [
       "array([ 0., -1., -4., -9.])"
      ]
     },
     "execution_count": 42,
     "metadata": {},
     "output_type": "execute_result"
    }
   ],
   "source": [
    "# 28) How to compute ((A+B)*(-A/2)) in place (without copy)?\n",
    "A = np.arange(4)\n",
    "B = np.arange(4)\n",
    "\n",
    "np.multiply(np.add(A, B), np.divide(np.negative(A), 2))"
   ]
  },
  {
   "cell_type": "code",
   "execution_count": 49,
   "metadata": {},
   "outputs": [
    {
     "data": {
      "text/plain": [
       "array([0., 0., 0., 0., 0.])"
      ]
     },
     "execution_count": 49,
     "metadata": {},
     "output_type": "execute_result"
    }
   ],
   "source": [
    "# 29) Extract the integer part of a random array using 5 different methods \n",
    "arr = np.random.random(5)\n",
    "np.ceil(arr)\n",
    "np.floor(arr)\n",
    "np.trunc(arr)"
   ]
  },
  {
   "cell_type": "code",
   "execution_count": 53,
   "metadata": {},
   "outputs": [
    {
     "data": {
      "text/plain": [
       "array([[3, 2, 0, 2, 3],\n",
       "       [0, 0, 2, 3, 0],\n",
       "       [3, 3, 3, 2, 0],\n",
       "       [3, 2, 0, 1, 3],\n",
       "       [1, 2, 2, 3, 1]])"
      ]
     },
     "execution_count": 53,
     "metadata": {},
     "output_type": "execute_result"
    }
   ],
   "source": [
    "# 30) Create a 5x5 matrix with row values ranging from 0 to 4\n",
    "mat = np.random.randint(4, size=(5,5))\n",
    "mat"
   ]
  },
  {
   "cell_type": "code",
   "execution_count": 63,
   "metadata": {},
   "outputs": [
    {
     "data": {
      "text/plain": [
       "array([ 0,  1,  4,  9, 16, 25, 36, 49, 64, 81])"
      ]
     },
     "execution_count": 63,
     "metadata": {},
     "output_type": "execute_result"
    }
   ],
   "source": [
    "# 31) Consider a generator function that generates 10 squares of  integers and use it to build an array\n",
    "iterable = ( x*x for x in range(10))   # generator object\n",
    "arr = np.fromiter(iterable, np.integer)\n",
    "arr"
   ]
  },
  {
   "cell_type": "code",
   "execution_count": 70,
   "metadata": {},
   "outputs": [],
   "source": [
    "# 32) Create a vector of size 10 with values ranging from 0 to 1, both excluded \n",
    "vector = np.random.random(10)\n",
    "np.linspace(vector, stop=1)"
   ]
  },
  {
   "cell_type": "code",
   "execution_count": 72,
   "metadata": {},
   "outputs": [
    {
     "data": {
      "text/plain": [
       "array([4.30022410e-04, 1.87870138e-02, 3.44319722e-01, 8.55348085e-01,\n",
       "       8.58382054e-01])"
      ]
     },
     "execution_count": 72,
     "metadata": {},
     "output_type": "execute_result"
    }
   ],
   "source": [
    "# 33) Create a random vector of size 10 and sort it\n",
    "vector  = np.random.random(5)\n",
    "np.sort(vector)"
   ]
  },
  {
   "cell_type": "code",
   "execution_count": 73,
   "metadata": {},
   "outputs": [
    {
     "name": "stdout",
     "output_type": "stream",
     "text": [
      "5.06 µs ± 539 ns per loop (mean ± std. dev. of 7 runs, 100000 loops each)\n"
     ]
    }
   ],
   "source": [
    "# 34) How to sum a small array faster than np.sum? \n",
    "arr = np.arange(5)\n",
    "%timeit np.sum(arr)"
   ]
  },
  {
   "cell_type": "code",
   "execution_count": 74,
   "metadata": {},
   "outputs": [
    {
     "name": "stdout",
     "output_type": "stream",
     "text": [
      "2.38 µs ± 237 ns per loop (mean ± std. dev. of 7 runs, 100000 loops each)\n"
     ]
    }
   ],
   "source": [
    "def sum(arr):\n",
    "    add = 0\n",
    "    for i in range(len(arr)):\n",
    "        add = add + arr[i]\n",
    "    return add\n",
    "arr = np.arange(5)\n",
    "%timeit sum(arr)\n",
    "        "
   ]
  },
  {
   "cell_type": "code",
   "execution_count": 77,
   "metadata": {},
   "outputs": [
    {
     "data": {
      "text/plain": [
       "False"
      ]
     },
     "execution_count": 77,
     "metadata": {},
     "output_type": "execute_result"
    }
   ],
   "source": [
    "# 35) Consider two random array A and B, check if they are equal\n",
    "A = np.random.random(5)\n",
    "B = np.random.random(5)\n",
    "np.allclose(A, B)\n",
    "np.array_equal(A, B)"
   ]
  },
  {
   "cell_type": "code",
   "execution_count": 89,
   "metadata": {
    "scrolled": true
   },
   "outputs": [],
   "source": [
    "# 36) Make an array immutable (read-only)\n",
    "arr = np.ones(5)\n",
    "arr\n",
    "arr.flags.writeable = False\n"
   ]
  },
  {
   "cell_type": "code",
   "execution_count": 132,
   "metadata": {
    "scrolled": true
   },
   "outputs": [],
   "source": [
    "# 37) Consider a random 10x2 matrix representing cartesian coordinates, convert them to polar coordinates \n",
    "cartesian = np.random.randint(10, size=(10,2))\n",
    "x, y = cartesian[:, 0], cartesian[:, 1]\n",
    "r = np.sqrt(x*x+y*y)\n",
    "angle = np.arctan2(y, x)"
   ]
  },
  {
   "cell_type": "code",
   "execution_count": 134,
   "metadata": {},
   "outputs": [
    {
     "data": {
      "text/plain": [
       "array([0.1553228 , 0.66069814, 0.4487901 , 0.11820982, 0.24098259,\n",
       "       0.26533529, 0.4601581 , 0.        , 0.03805374, 0.2128073 ])"
      ]
     },
     "execution_count": 134,
     "metadata": {},
     "output_type": "execute_result"
    }
   ],
   "source": [
    "# 38) Create random vector of size 10 and replace the maximum value by 0\n",
    "vector = np.random.random(10)\n",
    "max_index = np.argmax(vector)\n",
    "vector[max_index] = 0\n",
    "vector"
   ]
  },
  {
   "cell_type": "code",
   "execution_count": 137,
   "metadata": {
    "scrolled": true
   },
   "outputs": [
    {
     "data": {
      "text/plain": [
       "array([[(0.  , 0.  ), (0.25, 0.  ), (0.5 , 0.  ), (0.75, 0.  ),\n",
       "        (1.  , 0.  )],\n",
       "       [(0.  , 0.25), (0.25, 0.25), (0.5 , 0.25), (0.75, 0.25),\n",
       "        (1.  , 0.25)],\n",
       "       [(0.  , 0.5 ), (0.25, 0.5 ), (0.5 , 0.5 ), (0.75, 0.5 ),\n",
       "        (1.  , 0.5 )],\n",
       "       [(0.  , 0.75), (0.25, 0.75), (0.5 , 0.75), (0.75, 0.75),\n",
       "        (1.  , 0.75)],\n",
       "       [(0.  , 1.  ), (0.25, 1.  ), (0.5 , 1.  ), (0.75, 1.  ),\n",
       "        (1.  , 1.  )]], dtype=[('x', '<f8'), ('y', '<f8')])"
      ]
     },
     "execution_count": 137,
     "metadata": {},
     "output_type": "execute_result"
    }
   ],
   "source": [
    "# 39) Create a structured array with `x` and `y` coordinates covering the [0,1]x[0,1] area\n",
    "Z = np.zeros((5,5), [('x',float),('y',float)])\n",
    "Z['x'], Z['y'] = np.meshgrid(np.linspace(0,1,5),\n",
    "                             np.linspace(0,1,5))\n",
    "Z"
   ]
  },
  {
   "cell_type": "code",
   "execution_count": 139,
   "metadata": {
    "scrolled": true
   },
   "outputs": [
    {
     "data": {
      "image/png": "[encoded data removed]",
      "text/plain": [
       "<Figure size 432x288 with 1 Axes>"
      ]
     },
     "metadata": {
      "needs_background": "light"
     },
     "output_type": "display_data"
    }
   ],
   "source": [
    "import matplotlib.pyplot as plt\n",
    "x = np.arange(-5, 5, 0.1)\n",
    "y = np.arange(-5, 5, 0.1)\n",
    "xx, yy = np.meshgrid(x, y, sparse=True)\n",
    "z = np.sin(xx**2 + yy**2) / (xx**2 + yy**2)\n",
    "h = plt.contourf(x,y,z)\n",
    "plt.show()"
   ]
  },
  {
   "cell_type": "code",
   "execution_count": 143,
   "metadata": {},
   "outputs": [
    {
     "data": {
      "text/plain": [
       "-131.91659501325745"
      ]
     },
     "execution_count": 143,
     "metadata": {},
     "output_type": "execute_result"
    }
   ],
   "source": [
    "# 40) Given two arrays, X and Y, construct the Cauchy matrix C (Cij =1/(xi - yj))\n",
    "X = np.arange(5)\n",
    "Y = X + 0.5\n",
    "C =  1.0 / np.subtract.outer(X, Y)\n",
    "np.linalg.det(C)"
   ]
  },
  {
   "cell_type": "code",
   "execution_count": 150,
   "metadata": {},
   "outputs": [
    {
     "data": {
      "text/plain": [
       "19"
      ]
     },
     "execution_count": 150,
     "metadata": {},
     "output_type": "execute_result"
    }
   ],
   "source": [
    "# 41) How to find the closest value (to a given scalar) in a vector?\n",
    "arr = np.arange(100)\n",
    "v = np.random.uniform(0, 100)\n",
    "index = (np.abs(arr-v)).argmin()\n",
    "arr[index]\n"
   ]
  },
  {
   "cell_type": "code",
   "execution_count": 3,
   "metadata": {},
   "outputs": [
    {
     "name": "stderr",
     "output_type": "stream",
     "text": [
      "/home/surajkarki/anaconda3/lib/python3.7/site-packages/ipykernel_launcher.py:7: FutureWarning: Passing (type, 1) or '1type' as a synonym of type is deprecated; in a future version of numpy, it will be understood as (type, (1,)) / '(1,)type'.\n",
      "  import sys\n"
     ]
    },
    {
     "data": {
      "text/plain": [
       "array([((0., 0.), (0., 0., 0.)), ((0., 0.), (0., 0., 0.)),\n",
       "       ((0., 0.), (0., 0., 0.)), ((0., 0.), (0., 0., 0.)),\n",
       "       ((0., 0.), (0., 0., 0.)), ((0., 0.), (0., 0., 0.)),\n",
       "       ((0., 0.), (0., 0., 0.)), ((0., 0.), (0., 0., 0.)),\n",
       "       ((0., 0.), (0., 0., 0.)), ((0., 0.), (0., 0., 0.))],\n",
       "      dtype=[('position', [('x', '<f8'), ('y', '<f8')]), ('color', [('r', '<f8'), ('g', '<f8'), ('b', '<f8')])])"
      ]
     },
     "execution_count": 3,
     "metadata": {},
     "output_type": "execute_result"
    }
   ],
   "source": [
    "# 42) Create a structured array representing a position (x,y) and a color (r,g,b)\n",
    "arr = np.zeros(10, [('position', [ ('x', float, 1),\n",
    "                                   ('y', float, 1)],\n",
    "                    ),\n",
    "                   ('color', [ ('r', float, 1),\n",
    "                               ('g', float , 1),\n",
    "                               ('b', float, 1)])])\n",
    "arr"
   ]
  },
  {
   "cell_type": "code",
   "execution_count": 11,
   "metadata": {},
   "outputs": [
    {
     "data": {
      "text/plain": [
       "array([[ 0.        ,  3.16227766,  4.        , ...,  4.47213595,\n",
       "         5.65685425,  3.60555128],\n",
       "       [ 3.16227766,  0.        ,  7.07106781, ...,  7.07106781,\n",
       "         5.09901951,  6.08276253],\n",
       "       [ 4.        ,  7.07106781,  0.        , ...,  2.        ,\n",
       "         8.94427191,  2.23606798],\n",
       "       ...,\n",
       "       [ 4.47213595,  7.07106781,  2.        , ...,  0.        ,\n",
       "        10.        ,  1.        ],\n",
       "       [ 5.65685425,  5.09901951,  8.94427191, ..., 10.        ,\n",
       "         0.        ,  9.21954446],\n",
       "       [ 3.60555128,  6.08276253,  2.23606798, ...,  1.        ,\n",
       "         9.21954446,  0.        ]])"
      ]
     },
     "execution_count": 11,
     "metadata": {},
     "output_type": "execute_result"
    }
   ],
   "source": [
    "# 43) Consider a random vector with shape (100,2) representing coordinates, find point by point distances \n",
    "points = np.random.randint(10, size=(100, 2))\n",
    "x,y = np.atleast_2d(points[:,0], points[:,1])\n",
    "d = np.sqrt((x-x.T) ** 2 + (y-y.T) ** 2)\n"
   ]
  },
  {
   "cell_type": "code",
   "execution_count": 20,
   "metadata": {},
   "outputs": [
    {
     "data": {
      "text/plain": [
       "array([1055034045, 1026927080, 1060848453, 1059215739, 1053394993],\n",
       "      dtype=int32)"
      ]
     },
     "execution_count": 20,
     "metadata": {},
     "output_type": "execute_result"
    }
   ],
   "source": [
    "# 44) How to convert a float (32 bits) array into an integer (32 bits) in place ?\n",
    "arr = np.array(np.random.random(5),dtype=np.float32)\n",
    "arr\n",
    "arr.dtype = np.int32\n",
    "arr"
   ]
  },
  {
   "cell_type": "code",
   "execution_count": 35,
   "metadata": {},
   "outputs": [
    {
     "name": "stdout",
     "output_type": "stream",
     "text": [
      "(0, 0) 0.7060039703351214\n",
      "(0, 1) 0.8267446504441741\n",
      "(0, 2) 0.9897982262481434\n",
      "(0, 3) 0.7032203659954565\n",
      "(1, 0) 0.36774745102417095\n",
      "(1, 1) 0.3674427267071171\n",
      "(1, 2) 0.9620777869052768\n",
      "(1, 3) 0.030812411620566693\n",
      "(2, 0) 0.7151442790674221\n",
      "(2, 1) 0.9386823523434648\n",
      "(2, 2) 0.325384609858292\n",
      "(2, 3) 0.6184674140081663\n",
      "(3, 0) 0.17764465439105603\n",
      "(3, 1) 0.3617165525713598\n",
      "(3, 2) 0.7873496347393686\n",
      "(3, 3) 0.4780124068212094\n",
      "(0, 0, 0)\n",
      "(0, 0, 1)\n",
      "(0, 0, 2)\n",
      "(0, 0, 3)\n",
      "(0, 1, 0)\n",
      "(0, 1, 1)\n",
      "(0, 1, 2)\n",
      "(0, 1, 3)\n",
      "(0, 2, 0)\n",
      "(0, 2, 1)\n",
      "(0, 2, 2)\n",
      "(0, 2, 3)\n",
      "(0, 3, 0)\n",
      "(0, 3, 1)\n",
      "(0, 3, 2)\n",
      "(0, 3, 3)\n",
      "(1, 0, 0)\n",
      "(1, 0, 1)\n",
      "(1, 0, 2)\n",
      "(1, 0, 3)\n",
      "(1, 1, 0)\n",
      "(1, 1, 1)\n",
      "(1, 1, 2)\n",
      "(1, 1, 3)\n",
      "(1, 2, 0)\n",
      "(1, 2, 1)\n",
      "(1, 2, 2)\n",
      "(1, 2, 3)\n",
      "(1, 3, 0)\n",
      "(1, 3, 1)\n",
      "(1, 3, 2)\n",
      "(1, 3, 3)\n",
      "(2, 0, 0)\n",
      "(2, 0, 1)\n",
      "(2, 0, 2)\n",
      "(2, 0, 3)\n",
      "(2, 1, 0)\n",
      "(2, 1, 1)\n",
      "(2, 1, 2)\n",
      "(2, 1, 3)\n",
      "(2, 2, 0)\n",
      "(2, 2, 1)\n",
      "(2, 2, 2)\n",
      "(2, 2, 3)\n",
      "(2, 3, 0)\n",
      "(2, 3, 1)\n",
      "(2, 3, 2)\n",
      "(2, 3, 3)\n"
     ]
    }
   ],
   "source": [
    "# 45) What is the equivalent of enumerate for numpy arrays?\n",
    "# ndenumerate\n",
    "arr = np.random.random((4,4))\n",
    "for index, i in np.ndenumerate(arr):\n",
    "    print(index, i)\n",
    "# ndindex\n",
    "for index in np.ndindex(3, 4, 4):\n",
    "    print(index)"
   ]
  },
  {
   "cell_type": "code",
   "execution_count": 38,
   "metadata": {},
   "outputs": [
    {
     "data": {
      "text/plain": [
       "[<matplotlib.lines.Line2D at 0x7f4614cfe090>,\n",
       " <matplotlib.lines.Line2D at 0x7f4614cfe310>,\n",
       " <matplotlib.lines.Line2D at 0x7f4614cfe4d0>,\n",
       " <matplotlib.lines.Line2D at 0x7f4614cfe690>,\n",
       " <matplotlib.lines.Line2D at 0x7f4614cfe850>,\n",
       " <matplotlib.lines.Line2D at 0x7f4614cfea10>,\n",
       " <matplotlib.lines.Line2D at 0x7f4614cfec50>,\n",
       " <matplotlib.lines.Line2D at 0x7f4614cfee10>,\n",
       " <matplotlib.lines.Line2D at 0x7f4614cfefd0>,\n",
       " <matplotlib.lines.Line2D at 0x7f4614cfea50>]"
      ]
     },
     "execution_count": 38,
     "metadata": {},
     "output_type": "execute_result"
    },
    {
     "data": {
      "image/png": "[encoded data removed]",
      "text/plain": [
       "<Figure size 432x288 with 1 Axes>"
      ]
     },
     "metadata": {
      "needs_background": "light"
     },
     "output_type": "display_data"
    }
   ],
   "source": [
    "# 46)  Generate a generic 2D Gaussian-like array\n",
    "import matplotlib.pyplot as plt\n",
    "X, Y = np.meshgrid(np.linspace(-1,1,10), np.linspace(-1,1,10))\n",
    "D = np.sqrt(X*X+Y*Y)\n",
    "sigma, mu = 1.0, 0.0\n",
    "G = np.exp(-( (D-mu)**2 / ( 2.0 * sigma**2 ) ) )\n",
    "plt.plot(G)"
   ]
  },
  {
   "cell_type": "code",
   "execution_count": 62,
   "metadata": {},
   "outputs": [
    {
     "data": {
      "text/plain": [
       "array([[ 0,  1,  2,  3],\n",
       "       [ 4,  5,  6, -5],\n",
       "       [ 8,  9, 10, 11],\n",
       "       [12, 13, 14, 15]])"
      ]
     },
     "execution_count": 62,
     "metadata": {},
     "output_type": "execute_result"
    }
   ],
   "source": [
    "# 47) How to randomly place p elements in a 2D array? \n",
    "arr = np.arange(16).reshape(4, 4)\n",
    "arr\n",
    "np.put(arr, np.random.randint(0, 16), -5, mode='clip')\n",
    "arr"
   ]
  },
  {
   "cell_type": "code",
   "execution_count": 65,
   "metadata": {},
   "outputs": [
    {
     "data": {
      "text/plain": [
       "array([[-1., -3., -5.],\n",
       "       [ 2.,  0., -2.],\n",
       "       [ 5.,  3.,  1.]])"
      ]
     },
     "execution_count": 65,
     "metadata": {},
     "output_type": "execute_result"
    }
   ],
   "source": [
    "# 48)  Subtract the mean of each row of a matrix\n",
    "mat = np.arange(9).reshape(3, 3)\n",
    "mean = mat.mean(axis=1)\n",
    "demeaned = mat - mean\n",
    "demeaned"
   ]
  },
  {
   "cell_type": "code",
   "execution_count": 67,
   "metadata": {},
   "outputs": [
    {
     "data": {
      "text/plain": [
       "array([[0.48233537, 0.64230246, 0.07070094],\n",
       "       [0.83639753, 0.77567523, 0.35193265],\n",
       "       [0.86359738, 0.96530923, 0.72384846]])"
      ]
     },
     "execution_count": 67,
     "metadata": {},
     "output_type": "execute_result"
    }
   ],
   "source": [
    "# 49) How to sort an array by the nth column?\n",
    "arr = np.random.random((3, 3))\n",
    "arr.sort(axis=0)\n",
    "arr"
   ]
  },
  {
   "cell_type": "code",
   "execution_count": 72,
   "metadata": {},
   "outputs": [
    {
     "data": {
      "text/plain": [
       "True"
      ]
     },
     "execution_count": 72,
     "metadata": {},
     "output_type": "execute_result"
    }
   ],
   "source": [
    "# 50) How to tell if a given 2D array has null columns?\n",
    "arr = np.arange(10).reshape(5, 2)\n",
    "arr\n",
    "arr.any()"
   ]
  },
  {
   "cell_type": "code",
   "execution_count": 75,
   "metadata": {},
   "outputs": [
    {
     "data": {
      "text/plain": [
       "0.44922624078546347"
      ]
     },
     "execution_count": 75,
     "metadata": {},
     "output_type": "execute_result"
    }
   ],
   "source": [
    "# 51) Find the nearest value from a given value in an array\n",
    "arr = np.random.uniform(0,1,10)\n",
    "arr\n",
    "choice = 0.5\n",
    "m = arr.flat[np.abs(arr- choice).argmin()]\n",
    "m\n"
   ]
  },
  {
   "cell_type": "code",
   "execution_count": 94,
   "metadata": {},
   "outputs": [
    {
     "data": {
      "text/plain": [
       "'10 Elements array'"
      ]
     },
     "execution_count": 94,
     "metadata": {},
     "output_type": "execute_result"
    }
   ],
   "source": [
    "# 52)  Create an array class that has a name attribute\n",
    "class NamedArray(np.ndarray):\n",
    "    def __new__(cls, array, name=\"no name\"):\n",
    "        obj = np.asarray(array).view(cls)\n",
    "        obj.name = name\n",
    "        return obj\n",
    "    def __array_finalize__(self, obj):\n",
    "        if obj is None: return\n",
    "        self.info = getattr(obj, 'name', \"no name\")\n",
    "a = NamedArray(np.arange(10), '10 Elements array')\n",
    "a.name"
   ]
  },
  {
   "cell_type": "code",
   "execution_count": 98,
   "metadata": {},
   "outputs": [
    {
     "data": {
      "text/plain": [
       "array([0, 2, 2, 4, 4, 6, 6, 7, 9, 9])"
      ]
     },
     "execution_count": 98,
     "metadata": {},
     "output_type": "execute_result"
    }
   ],
   "source": [
    "# 53)  Consider a given vector, how to add 1 to each element indexed by a second vector (be careful with repeated indices)?\n",
    "vector = np.arange(10)\n",
    "index = np.array([1,3,5,8])\n",
    "np.add.at(vector, index, 1)\n",
    "vector"
   ]
  },
  {
   "cell_type": "code",
   "execution_count": 100,
   "metadata": {},
   "outputs": [
    {
     "data": {
      "text/plain": [
       "array([0, 1], dtype=uint8)"
      ]
     },
     "execution_count": 100,
     "metadata": {},
     "output_type": "execute_result"
    }
   ],
   "source": [
    "# 54) Considering a (w,h,3) image of (dtype=ubyte), compute the number of unique colors\n",
    "w,h = 16,16\n",
    "i = np.random.randint(0,2,(h,w,3)).astype(np.ubyte)\n",
    "f = i[...,0]*256*256 + i[...,1]*256 +i[...,2]\n",
    "n = len(np.unique(f))\n",
    "np.unique(i)"
   ]
  },
  {
   "cell_type": "code",
   "execution_count": 103,
   "metadata": {},
   "outputs": [
    {
     "data": {
      "text/plain": [
       "array([[56, 61, 55, 53],\n",
       "       [62, 57, 45, 67],\n",
       "       [55, 69, 34, 62]])"
      ]
     },
     "execution_count": 103,
     "metadata": {},
     "output_type": "execute_result"
    }
   ],
   "source": [
    "# 55) Considering a four dimensions array, how to get sum over the last two axis at once?\n",
    "arr = np.random.randint(0,10,(3,4,3,4))\n",
    "sum = arr.sum(axis=(-2,-1))\n",
    "sum"
   ]
  },
  {
   "cell_type": "code",
   "execution_count": 105,
   "metadata": {},
   "outputs": [
    {
     "data": {
      "text/plain": [
       "array([0.43016711, 0.46584761, 0.56070107, 0.65151599, 0.68249041,\n",
       "       0.60313509, 0.49418736, 0.37239836, 0.42143667, 0.67115047])"
      ]
     },
     "execution_count": 105,
     "metadata": {},
     "output_type": "execute_result"
    }
   ],
   "source": [
    "# 56) Considering a one-dimensional vector D, how to compute means of subsets of D using a vector S of same size describing subset  indices? (★★★)\n",
    "\n",
    "D = np.random.uniform(0,1,100)\n",
    "S = np.random.randint(0,10,100)\n",
    "D_sums = np.bincount(S, weights=D)\n",
    "D_counts = np.bincount(S)\n",
    "D_means = D_sums / D_counts\n",
    "D_means\n"
   ]
  },
  {
   "cell_type": "code",
   "execution_count": 107,
   "metadata": {},
   "outputs": [
    {
     "data": {
      "text/plain": [
       "0.31880413431083504"
      ]
     },
     "execution_count": 107,
     "metadata": {},
     "output_type": "execute_result"
    }
   ],
   "source": [
    "# 57) How to get the diagonal of a dot product?\n",
    "x = np.random.random((3,3))\n",
    "y = np.random.random((3,3))\n",
    "np.dot(np.diag(x), np.diag(y))\n"
   ]
  },
  {
   "cell_type": "code",
   "execution_count": 108,
   "metadata": {},
   "outputs": [
    {
     "data": {
      "text/plain": [
       "array([0, 1, 2, 3, 0])"
      ]
     },
     "execution_count": 108,
     "metadata": {},
     "output_type": "execute_result"
    }
   ],
   "source": [
    "# 58) Consider the vector [1, 2, 3, 4, 5], how to build a new vector with 3 consecutive zeros interleaved between each value?\n",
    "arr = np.arange(5)\n",
    "arr[::4] = 0\n",
    "arr"
   ]
  },
  {
   "cell_type": "code",
   "execution_count": 114,
   "metadata": {},
   "outputs": [
    {
     "data": {
      "text/plain": [
       "array([[[ 0.        ,  0.46113579,  0.92227159],\n",
       "        [ 1.16247293,  1.54996391,  1.93745489],\n",
       "        [ 3.40884896,  3.97699045,  4.54513194],\n",
       "        [ 7.2903755 ,  8.10041723,  8.91045895],\n",
       "        [ 0.8886987 ,  0.96275693,  1.03681515]],\n",
       "\n",
       "       [[11.27215679, 12.02363391, 12.77511103],\n",
       "        [ 9.78217732, 10.32563161, 10.86908591],\n",
       "        [ 8.89329311,  9.31678326,  9.74027341],\n",
       "        [10.42440447, 10.85875465, 11.29310484],\n",
       "        [ 9.10737819,  9.44468849,  9.7819988 ]],\n",
       "\n",
       "       [[28.0292466 , 28.96355482, 29.89786304],\n",
       "        [23.28849394, 23.99420588, 24.69991781],\n",
       "        [11.68593105, 12.01054024, 12.33514944],\n",
       "        [24.03326546, 24.64950304, 25.26574061],\n",
       "        [35.87958575, 36.7338616 , 37.58813745]],\n",
       "\n",
       "       [[23.07907159, 23.59193985, 24.10480811],\n",
       "        [22.49051138, 22.9590637 , 23.42761602],\n",
       "        [22.63973306, 23.0836494 , 23.52756573],\n",
       "        [26.79961157, 27.29590067, 27.79218977],\n",
       "        [37.30579596, 37.96028361, 38.61477126]],\n",
       "\n",
       "       [[41.49323701, 42.18479096, 42.87634491],\n",
       "        [10.1858759 , 10.34755647, 10.50923704],\n",
       "        [20.464715  , 20.77478644, 21.08485788],\n",
       "        [46.57174327, 47.24669607, 47.92164887],\n",
       "        [58.47328408, 59.28541302, 60.09754197]]])"
      ]
     },
     "execution_count": 114,
     "metadata": {},
     "output_type": "execute_result"
    }
   ],
   "source": [
    "# 59) Consider an array of dimension (5,5,3), how to mulitply it by an array with dimensions (5,5)?\n",
    "arr = np.arange(75).reshape(5, 5, 3)\n",
    "mul = np.random.random((5, 5))\n",
    "arr * mul[:, :, None]\n"
   ]
  },
  {
   "cell_type": "code",
   "execution_count": 116,
   "metadata": {},
   "outputs": [
    {
     "data": {
      "text/plain": [
       "array([[2, 3],\n",
       "       [0, 1],\n",
       "       [4, 5],\n",
       "       [6, 7],\n",
       "       [8, 9]])"
      ]
     },
     "execution_count": 116,
     "metadata": {},
     "output_type": "execute_result"
    }
   ],
   "source": [
    "# 60) How to swap two rows of an array?\n",
    "a = np.arange(10).reshape(5, 2)\n",
    "a[[0, 1]] = a[[1, 0]]\n",
    "a"
   ]
  },
  {
   "cell_type": "code",
   "execution_count": 7,
   "metadata": {},
   "outputs": [
    {
     "data": {
      "text/plain": [
       "10"
      ]
     },
     "execution_count": 7,
     "metadata": {},
     "output_type": "execute_result"
    }
   ],
   "source": [
    "# 61)  Compute a matrix rank\n",
    "arr  = np.random.uniform(0, 1, (10, 10))\n",
    "u, s , v = np.linalg.svd(arr)\n",
    "rank = np.sum(s > 1e-10)\n",
    "rank"
   ]
  },
  {
   "cell_type": "code",
   "execution_count": 14,
   "metadata": {},
   "outputs": [
    {
     "data": {
      "text/plain": [
       "3"
      ]
     },
     "execution_count": 14,
     "metadata": {},
     "output_type": "execute_result"
    }
   ],
   "source": [
    "# 62) How to find the most frequent value in an array?\n",
    "arr = np.array([1,3,4,3,2])\n",
    "max_index = np.bincount(arr).argmax()\n",
    "max_index\n",
    "arr[max_index]"
   ]
  },
  {
   "cell_type": "code",
   "execution_count": 15,
   "metadata": {},
   "outputs": [
    {
     "data": {
      "text/plain": [
       "array([[16., 16., 16., 16.],\n",
       "       [16., 16., 16., 16.],\n",
       "       [16., 16., 16., 16.],\n",
       "       [16., 16., 16., 16.]])"
      ]
     },
     "execution_count": 15,
     "metadata": {},
     "output_type": "execute_result"
    }
   ],
   "source": [
    "# 63) Consider a 16x16 array, how to get the block-sum (block size is 4x4)?\n",
    "arr = np.ones((16, 16))\n",
    "k = 4\n",
    "sum = np.add.reduceat(np.add.reduceat(arr, np.arange(0, arr.shape[0], k), axis=0),\n",
    "                                           np.arange(0, arr.shape[1], k), axis=1)\n",
    "sum\n",
    "    "
   ]
  },
  {
   "cell_type": "code",
   "execution_count": null,
   "metadata": {},
   "outputs": [],
   "source": []
  }
 ],
 "metadata": {
  "kernelspec": {
   "display_name": "Python 3",
   "language": "python",
   "name": "python3"
  },
  "language_info": {
   "codemirror_mode": {
    "name": "ipython",
    "version": 3
   },
   "file_extension": ".py",
   "mimetype": "text/x-python",
   "name": "python",
   "nbconvert_exporter": "python",
   "pygments_lexer": "ipython3",
   "version": "3.7.6"
  }
 },
 "nbformat": 4,
 "nbformat_minor": 4
}
