{
 "cells": [
  {
   "cell_type": "code",
   "execution_count": 1,
   "metadata": {},
   "outputs": [],
   "source": [
    "# Random Walks"
   ]
  },
  {
   "cell_type": "code",
   "execution_count": 15,
   "metadata": {},
   "outputs": [],
   "source": [
    "import random \n",
    "import numpy as np"
   ]
  },
  {
   "cell_type": "code",
   "execution_count": 2,
   "metadata": {},
   "outputs": [],
   "source": [
    "position = 0\n",
    "walk = [position]\n",
    "steps = 1000"
   ]
  },
  {
   "cell_type": "code",
   "execution_count": 3,
   "metadata": {},
   "outputs": [],
   "source": [
    "for i in range(steps):\n",
    "    step = 1 if random.randint(0, 1) else -1\n",
    "    position += step"
   ]
  },
  {
   "cell_type": "code",
   "execution_count": 11,
   "metadata": {},
   "outputs": [
    {
     "data": {
      "text/plain": [
       "[0, -44, -44, -44, -44]"
      ]
     },
     "execution_count": 11,
     "metadata": {},
     "output_type": "execute_result"
    }
   ],
   "source": [
    "walk.append(position)\n",
    "walk"
   ]
  },
  {
   "cell_type": "code",
   "execution_count": 12,
   "metadata": {},
   "outputs": [],
   "source": [
    "import matplotlib.pyplot as plt"
   ]
  },
  {
   "cell_type": "code",
   "execution_count": 13,
   "metadata": {},
   "outputs": [
    {
     "data": {
      "text/plain": [
       "[<matplotlib.lines.Line2D at 0x7fcafe69a490>]"
      ]
     },
     "execution_count": 13,
     "metadata": {},
     "output_type": "execute_result"
    },
    {
     "data": {
      "image/png": "[encoded data removed]",
      "text/plain": [
       "<Figure size 432x288 with 1 Axes>"
      ]
     },
     "metadata": {
      "needs_background": "light"
     },
     "output_type": "display_data"
    }
   ],
   "source": [
    "plt.plot(walk[:100])"
   ]
  },
  {
   "cell_type": "code",
   "execution_count": 16,
   "metadata": {},
   "outputs": [
    {
     "data": {
      "text/plain": [
       "array([0, 0, 0, 0, 1, 0, 1, 1, 1, 0, 0, 0, 1, 0, 0, 0, 0, 1, 1, 1, 1, 1,\n",
       "       1, 0, 0, 1, 0, 0, 1, 0, 0, 0, 0, 1, 0, 0, 0, 1, 1, 1, 1, 1, 1, 0,\n",
       "       0, 1, 0, 0, 1, 1, 0, 1, 1, 0, 0, 1, 0, 1, 1, 1, 0, 1, 1, 0, 0, 0,\n",
       "       1, 1, 0, 0, 1, 1, 0, 1, 1, 0, 0, 0, 0, 1, 0, 0, 1, 0, 0, 1, 0, 1,\n",
       "       0, 0, 0, 0, 1, 1, 1, 0, 0, 0, 0, 0, 0, 0, 0, 1, 0, 1, 0, 0, 1, 0,\n",
       "       1, 1, 1, 1, 1, 1, 0, 1, 0, 0, 1, 1, 0, 1, 0, 0, 0, 1, 1, 1, 1, 0,\n",
       "       1, 0, 0, 0, 0, 0, 1, 0, 1, 1, 0, 1, 1, 0, 1, 1, 0, 0, 1, 0, 0, 0,\n",
       "       1, 0, 1, 1, 0, 0, 1, 1, 0, 1, 0, 1, 0, 0, 0, 0, 0, 1, 1, 0, 0, 0,\n",
       "       0, 1, 1, 0, 1, 0, 1, 1, 1, 1, 0, 0, 1, 0, 1, 1, 1, 0, 0, 0, 0, 1,\n",
       "       1, 0, 0, 0, 0, 1, 0, 1, 0, 1, 1, 0, 0, 1, 0, 0, 1, 1, 0, 0, 1, 1,\n",
       "       1, 1, 0, 0, 0, 1, 1, 1, 1, 1, 1, 1, 0, 1, 1, 1, 1, 0, 1, 1, 1, 1,\n",
       "       1, 0, 1, 0, 1, 1, 1, 1, 0, 1, 0, 0, 0, 0, 1, 1, 0, 1, 1, 0, 1, 1,\n",
       "       1, 0, 0, 1, 1, 1, 1, 0, 0, 1, 1, 1, 0, 0, 1, 0, 1, 0, 1, 1, 0, 1,\n",
       "       0, 0, 0, 0, 1, 1, 0, 1, 1, 1, 1, 1, 1, 1, 1, 1, 1, 1, 1, 0, 0, 0,\n",
       "       0, 1, 0, 1, 0, 1, 0, 1, 1, 0, 1, 0, 1, 0, 0, 1, 0, 0, 1, 0, 0, 0,\n",
       "       0, 0, 0, 0, 1, 1, 1, 1, 0, 1, 1, 0, 0, 0, 0, 1, 1, 0, 0, 1, 0, 0,\n",
       "       1, 0, 0, 1, 0, 1, 1, 0, 0, 1, 1, 1, 1, 1, 0, 0, 0, 1, 0, 1, 1, 1,\n",
       "       1, 0, 0, 0, 1, 0, 1, 0, 1, 1, 1, 0, 0, 1, 0, 0, 1, 0, 0, 0, 1, 1,\n",
       "       1, 0, 1, 0, 0, 1, 1, 0, 1, 1, 1, 0, 0, 1, 1, 0, 0, 0, 0, 1, 0, 1,\n",
       "       0, 0, 0, 0, 0, 0, 1, 1, 1, 0, 0, 0, 1, 0, 1, 0, 1, 0, 0, 1, 1, 0,\n",
       "       0, 1, 1, 1, 1, 0, 0, 1, 1, 1, 1, 0, 1, 0, 1, 1, 0, 1, 1, 1, 0, 0,\n",
       "       0, 0, 0, 1, 0, 1, 0, 0, 0, 0, 1, 0, 0, 1, 0, 0, 0, 1, 1, 0, 1, 1,\n",
       "       1, 1, 0, 0, 1, 1, 0, 0, 0, 1, 1, 1, 1, 0, 0, 1, 0, 0, 0, 0, 1, 1,\n",
       "       0, 0, 0, 0, 0, 0, 0, 0, 1, 1, 1, 1, 1, 0, 0, 1, 0, 1, 0, 0, 0, 0,\n",
       "       1, 0, 1, 1, 0, 0, 0, 1, 1, 1, 0, 0, 1, 0, 0, 0, 1, 1, 1, 0, 1, 1,\n",
       "       0, 0, 0, 0, 1, 0, 1, 1, 1, 1, 1, 0, 0, 1, 0, 0, 1, 1, 0, 0, 1, 0,\n",
       "       1, 1, 0, 0, 1, 0, 1, 1, 0, 1, 1, 0, 0, 0, 1, 0, 0, 1, 0, 0, 1, 1,\n",
       "       1, 1, 0, 0, 0, 1, 0, 0, 0, 0, 1, 1, 0, 0, 1, 0, 1, 1, 1, 1, 0, 0,\n",
       "       0, 0, 1, 1, 0, 0, 0, 0, 0, 1, 1, 1, 0, 1, 1, 0, 0, 1, 1, 1, 0, 0,\n",
       "       0, 0, 0, 0, 0, 0, 0, 1, 1, 0, 1, 0, 0, 1, 1, 1, 1, 1, 0, 0, 0, 1,\n",
       "       1, 1, 1, 1, 0, 1, 0, 1, 1, 0, 1, 1, 0, 0, 1, 1, 1, 1, 0, 1, 1, 1,\n",
       "       1, 1, 1, 1, 0, 0, 1, 0, 1, 1, 0, 1, 0, 1, 0, 1, 0, 1, 0, 1, 1, 1,\n",
       "       0, 1, 0, 1, 1, 1, 1, 0, 1, 1, 0, 1, 1, 0, 1, 1, 0, 0, 1, 0, 1, 1,\n",
       "       1, 1, 0, 0, 1, 0, 0, 0, 0, 0, 0, 1, 0, 0, 0, 0, 0, 0, 0, 0, 1, 1,\n",
       "       0, 0, 0, 0, 1, 1, 1, 0, 0, 0, 0, 1, 1, 0, 0, 1, 0, 1, 0, 0, 0, 1,\n",
       "       1, 1, 0, 1, 0, 1, 0, 1, 0, 1, 0, 0, 1, 0, 1, 1, 0, 0, 1, 0, 1, 1,\n",
       "       1, 0, 0, 0, 1, 1, 1, 1, 1, 0, 0, 1, 0, 1, 0, 0, 1, 1, 0, 0, 0, 0,\n",
       "       1, 1, 1, 1, 0, 0, 0, 0, 0, 0, 0, 1, 1, 0, 0, 0, 1, 1, 1, 0, 0, 1,\n",
       "       0, 0, 1, 0, 1, 1, 0, 0, 0, 1, 0, 1, 0, 0, 1, 0, 1, 1, 1, 1, 1, 1,\n",
       "       1, 0, 1, 0, 1, 0, 0, 0, 0, 0, 0, 1, 0, 0, 1, 1, 1, 0, 0, 0, 0, 1,\n",
       "       1, 1, 0, 0, 0, 0, 0, 1, 0, 0, 1, 0, 1, 1, 0, 0, 1, 0, 1, 1, 0, 1,\n",
       "       0, 1, 0, 1, 1, 0, 1, 1, 1, 0, 1, 0, 1, 1, 1, 0, 1, 0, 1, 1, 0, 1,\n",
       "       0, 0, 1, 0, 0, 0, 0, 0, 0, 1, 1, 1, 0, 0, 0, 1, 1, 1, 0, 1, 1, 1,\n",
       "       0, 0, 0, 0, 0, 1, 1, 1, 1, 0, 1, 0, 0, 0, 0, 1, 1, 0, 1, 1, 0, 0,\n",
       "       0, 0, 1, 1, 0, 0, 1, 0, 0, 1, 0, 1, 1, 0, 1, 0, 0, 0, 1, 1, 0, 1,\n",
       "       1, 1, 0, 1, 0, 0, 1, 0, 1, 1])"
      ]
     },
     "execution_count": 16,
     "metadata": {},
     "output_type": "execute_result"
    }
   ],
   "source": [
    "#coin flip\n",
    "nsteps = 1000\n",
    "draws = np.random.randint(0, 2, size=nsteps)\n",
    "draws"
   ]
  },
  {
   "cell_type": "code",
   "execution_count": 17,
   "metadata": {},
   "outputs": [
    {
     "data": {
      "text/plain": [
       "array([-1, -1, -1, -1,  1, -1,  1,  1,  1, -1, -1, -1,  1, -1, -1, -1, -1,\n",
       "        1,  1,  1,  1,  1,  1, -1, -1,  1, -1, -1,  1, -1, -1, -1, -1,  1,\n",
       "       -1, -1, -1,  1,  1,  1,  1,  1,  1, -1, -1,  1, -1, -1,  1,  1, -1,\n",
       "        1,  1, -1, -1,  1, -1,  1,  1,  1, -1,  1,  1, -1, -1, -1,  1,  1,\n",
       "       -1, -1,  1,  1, -1,  1,  1, -1, -1, -1, -1,  1, -1, -1,  1, -1, -1,\n",
       "        1, -1,  1, -1, -1, -1, -1,  1,  1,  1, -1, -1, -1, -1, -1, -1, -1,\n",
       "       -1,  1, -1,  1, -1, -1,  1, -1,  1,  1,  1,  1,  1,  1, -1,  1, -1,\n",
       "       -1,  1,  1, -1,  1, -1, -1, -1,  1,  1,  1,  1, -1,  1, -1, -1, -1,\n",
       "       -1, -1,  1, -1,  1,  1, -1,  1,  1, -1,  1,  1, -1, -1,  1, -1, -1,\n",
       "       -1,  1, -1,  1,  1, -1, -1,  1,  1, -1,  1, -1,  1, -1, -1, -1, -1,\n",
       "       -1,  1,  1, -1, -1, -1, -1,  1,  1, -1,  1, -1,  1,  1,  1,  1, -1,\n",
       "       -1,  1, -1,  1,  1,  1, -1, -1, -1, -1,  1,  1, -1, -1, -1, -1,  1,\n",
       "       -1,  1, -1,  1,  1, -1, -1,  1, -1, -1,  1,  1, -1, -1,  1,  1,  1,\n",
       "        1, -1, -1, -1,  1,  1,  1,  1,  1,  1,  1, -1,  1,  1,  1,  1, -1,\n",
       "        1,  1,  1,  1,  1, -1,  1, -1,  1,  1,  1,  1, -1,  1, -1, -1, -1,\n",
       "       -1,  1,  1, -1,  1,  1, -1,  1,  1,  1, -1, -1,  1,  1,  1,  1, -1,\n",
       "       -1,  1,  1,  1, -1, -1,  1, -1,  1, -1,  1,  1, -1,  1, -1, -1, -1,\n",
       "       -1,  1,  1, -1,  1,  1,  1,  1,  1,  1,  1,  1,  1,  1,  1,  1, -1,\n",
       "       -1, -1, -1,  1, -1,  1, -1,  1, -1,  1,  1, -1,  1, -1,  1, -1, -1,\n",
       "        1, -1, -1,  1, -1, -1, -1, -1, -1, -1, -1,  1,  1,  1,  1, -1,  1,\n",
       "        1, -1, -1, -1, -1,  1,  1, -1, -1,  1, -1, -1,  1, -1, -1,  1, -1,\n",
       "        1,  1, -1, -1,  1,  1,  1,  1,  1, -1, -1, -1,  1, -1,  1,  1,  1,\n",
       "        1, -1, -1, -1,  1, -1,  1, -1,  1,  1,  1, -1, -1,  1, -1, -1,  1,\n",
       "       -1, -1, -1,  1,  1,  1, -1,  1, -1, -1,  1,  1, -1,  1,  1,  1, -1,\n",
       "       -1,  1,  1, -1, -1, -1, -1,  1, -1,  1, -1, -1, -1, -1, -1, -1,  1,\n",
       "        1,  1, -1, -1, -1,  1, -1,  1, -1,  1, -1, -1,  1,  1, -1, -1,  1,\n",
       "        1,  1,  1, -1, -1,  1,  1,  1,  1, -1,  1, -1,  1,  1, -1,  1,  1,\n",
       "        1, -1, -1, -1, -1, -1,  1, -1,  1, -1, -1, -1, -1,  1, -1, -1,  1,\n",
       "       -1, -1, -1,  1,  1, -1,  1,  1,  1,  1, -1, -1,  1,  1, -1, -1, -1,\n",
       "        1,  1,  1,  1, -1, -1,  1, -1, -1, -1, -1,  1,  1, -1, -1, -1, -1,\n",
       "       -1, -1, -1, -1,  1,  1,  1,  1,  1, -1, -1,  1, -1,  1, -1, -1, -1,\n",
       "       -1,  1, -1,  1,  1, -1, -1, -1,  1,  1,  1, -1, -1,  1, -1, -1, -1,\n",
       "        1,  1,  1, -1,  1,  1, -1, -1, -1, -1,  1, -1,  1,  1,  1,  1,  1,\n",
       "       -1, -1,  1, -1, -1,  1,  1, -1, -1,  1, -1,  1,  1, -1, -1,  1, -1,\n",
       "        1,  1, -1,  1,  1, -1, -1, -1,  1, -1, -1,  1, -1, -1,  1,  1,  1,\n",
       "        1, -1, -1, -1,  1, -1, -1, -1, -1,  1,  1, -1, -1,  1, -1,  1,  1,\n",
       "        1,  1, -1, -1, -1, -1,  1,  1, -1, -1, -1, -1, -1,  1,  1,  1, -1,\n",
       "        1,  1, -1, -1,  1,  1,  1, -1, -1, -1, -1, -1, -1, -1, -1, -1,  1,\n",
       "        1, -1,  1, -1, -1,  1,  1,  1,  1,  1, -1, -1, -1,  1,  1,  1,  1,\n",
       "        1, -1,  1, -1,  1,  1, -1,  1,  1, -1, -1,  1,  1,  1,  1, -1,  1,\n",
       "        1,  1,  1,  1,  1,  1, -1, -1,  1, -1,  1,  1, -1,  1, -1,  1, -1,\n",
       "        1, -1,  1, -1,  1,  1,  1, -1,  1, -1,  1,  1,  1,  1, -1,  1,  1,\n",
       "       -1,  1,  1, -1,  1,  1, -1, -1,  1, -1,  1,  1,  1,  1, -1, -1,  1,\n",
       "       -1, -1, -1, -1, -1, -1,  1, -1, -1, -1, -1, -1, -1, -1, -1,  1,  1,\n",
       "       -1, -1, -1, -1,  1,  1,  1, -1, -1, -1, -1,  1,  1, -1, -1,  1, -1,\n",
       "        1, -1, -1, -1,  1,  1,  1, -1,  1, -1,  1, -1,  1, -1,  1, -1, -1,\n",
       "        1, -1,  1,  1, -1, -1,  1, -1,  1,  1,  1, -1, -1, -1,  1,  1,  1,\n",
       "        1,  1, -1, -1,  1, -1,  1, -1, -1,  1,  1, -1, -1, -1, -1,  1,  1,\n",
       "        1,  1, -1, -1, -1, -1, -1, -1, -1,  1,  1, -1, -1, -1,  1,  1,  1,\n",
       "       -1, -1,  1, -1, -1,  1, -1,  1,  1, -1, -1, -1,  1, -1,  1, -1, -1,\n",
       "        1, -1,  1,  1,  1,  1,  1,  1,  1, -1,  1, -1,  1, -1, -1, -1, -1,\n",
       "       -1, -1,  1, -1, -1,  1,  1,  1, -1, -1, -1, -1,  1,  1,  1, -1, -1,\n",
       "       -1, -1, -1,  1, -1, -1,  1, -1,  1,  1, -1, -1,  1, -1,  1,  1, -1,\n",
       "        1, -1,  1, -1,  1,  1, -1,  1,  1,  1, -1,  1, -1,  1,  1,  1, -1,\n",
       "        1, -1,  1,  1, -1,  1, -1, -1,  1, -1, -1, -1, -1, -1, -1,  1,  1,\n",
       "        1, -1, -1, -1,  1,  1,  1, -1,  1,  1,  1, -1, -1, -1, -1, -1,  1,\n",
       "        1,  1,  1, -1,  1, -1, -1, -1, -1,  1,  1, -1,  1,  1, -1, -1, -1,\n",
       "       -1,  1,  1, -1, -1,  1, -1, -1,  1, -1,  1,  1, -1,  1, -1, -1, -1,\n",
       "        1,  1, -1,  1,  1,  1, -1,  1, -1, -1,  1, -1,  1,  1])"
      ]
     },
     "execution_count": 17,
     "metadata": {},
     "output_type": "execute_result"
    }
   ],
   "source": [
    "steps = np.where(draws > 0 ,  1, -1)\n",
    "steps"
   ]
  },
  {
   "cell_type": "code",
   "execution_count": 18,
   "metadata": {},
   "outputs": [
    {
     "data": {
      "text/plain": [
       "array([ -1,  -2,  -3,  -4,  -3,  -4,  -3,  -2,  -1,  -2,  -3,  -4,  -3,\n",
       "        -4,  -5,  -6,  -7,  -6,  -5,  -4,  -3,  -2,  -1,  -2,  -3,  -2,\n",
       "        -3,  -4,  -3,  -4,  -5,  -6,  -7,  -6,  -7,  -8,  -9,  -8,  -7,\n",
       "        -6,  -5,  -4,  -3,  -4,  -5,  -4,  -5,  -6,  -5,  -4,  -5,  -4,\n",
       "        -3,  -4,  -5,  -4,  -5,  -4,  -3,  -2,  -3,  -2,  -1,  -2,  -3,\n",
       "        -4,  -3,  -2,  -3,  -4,  -3,  -2,  -3,  -2,  -1,  -2,  -3,  -4,\n",
       "        -5,  -4,  -5,  -6,  -5,  -6,  -7,  -6,  -7,  -6,  -7,  -8,  -9,\n",
       "       -10,  -9,  -8,  -7,  -8,  -9, -10, -11, -12, -13, -14, -15, -14,\n",
       "       -15, -14, -15, -16, -15, -16, -15, -14, -13, -12, -11, -10, -11,\n",
       "       -10, -11, -12, -11, -10, -11, -10, -11, -12, -13, -12, -11, -10,\n",
       "        -9, -10,  -9, -10, -11, -12, -13, -14, -13, -14, -13, -12, -13,\n",
       "       -12, -11, -12, -11, -10, -11, -12, -11, -12, -13, -14, -13, -14,\n",
       "       -13, -12, -13, -14, -13, -12, -13, -12, -13, -12, -13, -14, -15,\n",
       "       -16, -17, -16, -15, -16, -17, -18, -19, -18, -17, -18, -17, -18,\n",
       "       -17, -16, -15, -14, -15, -16, -15, -16, -15, -14, -13, -14, -15,\n",
       "       -16, -17, -16, -15, -16, -17, -18, -19, -18, -19, -18, -19, -18,\n",
       "       -17, -18, -19, -18, -19, -20, -19, -18, -19, -20, -19, -18, -17,\n",
       "       -16, -17, -18, -19, -18, -17, -16, -15, -14, -13, -12, -13, -12,\n",
       "       -11, -10,  -9, -10,  -9,  -8,  -7,  -6,  -5,  -6,  -5,  -6,  -5,\n",
       "        -4,  -3,  -2,  -3,  -2,  -3,  -4,  -5,  -6,  -5,  -4,  -5,  -4,\n",
       "        -3,  -4,  -3,  -2,  -1,  -2,  -3,  -2,  -1,   0,   1,   0,  -1,\n",
       "         0,   1,   2,   1,   0,   1,   0,   1,   0,   1,   2,   1,   2,\n",
       "         1,   0,  -1,  -2,  -1,   0,  -1,   0,   1,   2,   3,   4,   5,\n",
       "         6,   7,   8,   9,  10,  11,  10,   9,   8,   7,   8,   7,   8,\n",
       "         7,   8,   7,   8,   9,   8,   9,   8,   9,   8,   7,   8,   7,\n",
       "         6,   7,   6,   5,   4,   3,   2,   1,   0,   1,   2,   3,   4,\n",
       "         3,   4,   5,   4,   3,   2,   1,   2,   3,   2,   1,   2,   1,\n",
       "         0,   1,   0,  -1,   0,  -1,   0,   1,   0,  -1,   0,   1,   2,\n",
       "         3,   4,   3,   2,   1,   2,   1,   2,   3,   4,   5,   4,   3,\n",
       "         2,   3,   2,   3,   2,   3,   4,   5,   4,   3,   4,   3,   2,\n",
       "         3,   2,   1,   0,   1,   2,   3,   2,   3,   2,   1,   2,   3,\n",
       "         2,   3,   4,   5,   4,   3,   4,   5,   4,   3,   2,   1,   2,\n",
       "         1,   2,   1,   0,  -1,  -2,  -3,  -4,  -3,  -2,  -1,  -2,  -3,\n",
       "        -4,  -3,  -4,  -3,  -4,  -3,  -4,  -5,  -4,  -3,  -4,  -5,  -4,\n",
       "        -3,  -2,  -1,  -2,  -3,  -2,  -1,   0,   1,   0,   1,   0,   1,\n",
       "         2,   1,   2,   3,   4,   3,   2,   1,   0,  -1,   0,  -1,   0,\n",
       "        -1,  -2,  -3,  -4,  -3,  -4,  -5,  -4,  -5,  -6,  -7,  -6,  -5,\n",
       "        -6,  -5,  -4,  -3,  -2,  -3,  -4,  -3,  -2,  -3,  -4,  -5,  -4,\n",
       "        -3,  -2,  -1,  -2,  -3,  -2,  -3,  -4,  -5,  -6,  -5,  -4,  -5,\n",
       "        -6,  -7,  -8,  -9, -10, -11, -12, -11, -10,  -9,  -8,  -7,  -8,\n",
       "        -9,  -8,  -9,  -8,  -9, -10, -11, -12, -11, -12, -11, -10, -11,\n",
       "       -12, -13, -12, -11, -10, -11, -12, -11, -12, -13, -14, -13, -12,\n",
       "       -11, -12, -11, -10, -11, -12, -13, -14, -13, -14, -13, -12, -11,\n",
       "       -10,  -9, -10, -11, -10, -11, -12, -11, -10, -11, -12, -11, -12,\n",
       "       -11, -10, -11, -12, -11, -12, -11, -10, -11, -10,  -9, -10, -11,\n",
       "       -12, -11, -12, -13, -12, -13, -14, -13, -12, -11, -10, -11, -12,\n",
       "       -13, -12, -13, -14, -15, -16, -15, -14, -15, -16, -15, -16, -15,\n",
       "       -14, -13, -12, -13, -14, -15, -16, -15, -14, -15, -16, -17, -18,\n",
       "       -19, -18, -17, -16, -17, -16, -15, -16, -17, -16, -15, -14, -15,\n",
       "       -16, -17, -18, -19, -20, -21, -22, -23, -22, -21, -22, -21, -22,\n",
       "       -23, -22, -21, -20, -19, -18, -19, -20, -21, -20, -19, -18, -17,\n",
       "       -16, -17, -16, -17, -16, -15, -16, -15, -14, -15, -16, -15, -14,\n",
       "       -13, -12, -13, -12, -11, -10,  -9,  -8,  -7,  -6,  -7,  -8,  -7,\n",
       "        -8,  -7,  -6,  -7,  -6,  -7,  -6,  -7,  -6,  -7,  -6,  -7,  -6,\n",
       "        -5,  -4,  -5,  -4,  -5,  -4,  -3,  -2,  -1,  -2,  -1,   0,  -1,\n",
       "         0,   1,   0,   1,   2,   1,   0,   1,   0,   1,   2,   3,   4,\n",
       "         3,   2,   3,   2,   1,   0,  -1,  -2,  -3,  -2,  -3,  -4,  -5,\n",
       "        -6,  -7,  -8,  -9, -10,  -9,  -8,  -9, -10, -11, -12, -11, -10,\n",
       "        -9, -10, -11, -12, -13, -12, -11, -12, -13, -12, -13, -12, -13,\n",
       "       -14, -15, -14, -13, -12, -13, -12, -13, -12, -13, -12, -13, -12,\n",
       "       -13, -14, -13, -14, -13, -12, -13, -14, -13, -14, -13, -12, -11,\n",
       "       -12, -13, -14, -13, -12, -11, -10,  -9, -10, -11, -10, -11, -10,\n",
       "       -11, -12, -11, -10, -11, -12, -13, -14, -13, -12, -11, -10, -11,\n",
       "       -12, -13, -14, -15, -16, -17, -16, -15, -16, -17, -18, -17, -16,\n",
       "       -15, -16, -17, -16, -17, -18, -17, -18, -17, -16, -17, -18, -19,\n",
       "       -18, -19, -18, -19, -20, -19, -20, -19, -18, -17, -16, -15, -14,\n",
       "       -13, -14, -13, -14, -13, -14, -15, -16, -17, -18, -19, -18, -19,\n",
       "       -20, -19, -18, -17, -18, -19, -20, -21, -20, -19, -18, -19, -20,\n",
       "       -21, -22, -23, -22, -23, -24, -23, -24, -23, -22, -23, -24, -23,\n",
       "       -24, -23, -22, -23, -22, -23, -22, -23, -22, -21, -22, -21, -20,\n",
       "       -19, -20, -19, -20, -19, -18, -17, -18, -17, -18, -17, -16, -17,\n",
       "       -16, -17, -18, -17, -18, -19, -20, -21, -22, -23, -22, -21, -20,\n",
       "       -21, -22, -23, -22, -21, -20, -21, -20, -19, -18, -19, -20, -21,\n",
       "       -22, -23, -22, -21, -20, -19, -20, -19, -20, -21, -22, -23, -22,\n",
       "       -21, -22, -21, -20, -21, -22, -23, -24, -23, -22, -23, -24, -23,\n",
       "       -24, -25, -24, -25, -24, -23, -24, -23, -24, -25, -26, -25, -24,\n",
       "       -25, -24, -23, -22, -23, -22, -23, -24, -23, -24, -23, -22])"
      ]
     },
     "execution_count": 18,
     "metadata": {},
     "output_type": "execute_result"
    }
   ],
   "source": [
    "walk = steps.cumsum()\n",
    "walk"
   ]
  },
  {
   "cell_type": "code",
   "execution_count": 19,
   "metadata": {},
   "outputs": [
    {
     "data": {
      "text/plain": [
       "-26"
      ]
     },
     "execution_count": 19,
     "metadata": {},
     "output_type": "execute_result"
    }
   ],
   "source": [
    "walk.min()"
   ]
  },
  {
   "cell_type": "code",
   "execution_count": 20,
   "metadata": {},
   "outputs": [
    {
     "data": {
      "text/plain": [
       "11"
      ]
     },
     "execution_count": 20,
     "metadata": {},
     "output_type": "execute_result"
    }
   ],
   "source": [
    "walk.max()"
   ]
  },
  {
   "cell_type": "code",
   "execution_count": 21,
   "metadata": {},
   "outputs": [
    {
     "data": {
      "text/plain": [
       "91"
      ]
     },
     "execution_count": 21,
     "metadata": {},
     "output_type": "execute_result"
    }
   ],
   "source": [
    "(np.abs(walk) >= 10).argmax()"
   ]
  },
  {
   "cell_type": "code",
   "execution_count": 22,
   "metadata": {},
   "outputs": [
    {
     "data": {
      "text/plain": [
       "[<matplotlib.lines.Line2D at 0x7fcafdd388d0>]"
      ]
     },
     "execution_count": 22,
     "metadata": {},
     "output_type": "execute_result"
    },
    {
     "data": {
      "image/png": "[encoded data removed]",
      "text/plain": [
       "<Figure size 432x288 with 1 Axes>"
      ]
     },
     "metadata": {
      "needs_background": "light"
     },
     "output_type": "display_data"
    }
   ],
   "source": [
    "plt.plot(walk)"
   ]
  },
  {
   "cell_type": "code",
   "execution_count": 24,
   "metadata": {},
   "outputs": [],
   "source": [
    "# simulating many random walks at once\n",
    "nwalks = 5000\n",
    "nsteps = 1000"
   ]
  },
  {
   "cell_type": "code",
   "execution_count": 25,
   "metadata": {},
   "outputs": [
    {
     "data": {
      "text/plain": [
       "array([[1, 0, 1, ..., 0, 1, 0],\n",
       "       [1, 1, 1, ..., 0, 1, 1],\n",
       "       [0, 1, 0, ..., 1, 0, 1],\n",
       "       ...,\n",
       "       [1, 0, 0, ..., 1, 1, 0],\n",
       "       [0, 1, 1, ..., 1, 0, 1],\n",
       "       [0, 0, 0, ..., 1, 0, 0]])"
      ]
     },
     "execution_count": 25,
     "metadata": {},
     "output_type": "execute_result"
    }
   ],
   "source": [
    "draws = np.random.randint(0, 2, size=(nwalks, nsteps)) # 0 or 1\n",
    "draws"
   ]
  },
  {
   "cell_type": "code",
   "execution_count": 26,
   "metadata": {},
   "outputs": [
    {
     "data": {
      "text/plain": [
       "array([[ 1, -1,  1, ..., -1,  1, -1],\n",
       "       [ 1,  1,  1, ..., -1,  1,  1],\n",
       "       [-1,  1, -1, ...,  1, -1,  1],\n",
       "       ...,\n",
       "       [ 1, -1, -1, ...,  1,  1, -1],\n",
       "       [-1,  1,  1, ...,  1, -1,  1],\n",
       "       [-1, -1, -1, ...,  1, -1, -1]])"
      ]
     },
     "execution_count": 26,
     "metadata": {},
     "output_type": "execute_result"
    }
   ],
   "source": [
    "steps = np.where(draws > 0 , 1, -1)\n",
    "steps"
   ]
  },
  {
   "cell_type": "code",
   "execution_count": 27,
   "metadata": {},
   "outputs": [
    {
     "data": {
      "text/plain": [
       "array([[  1,   0,   1, ...,   4,   5,   4],\n",
       "       [  1,   2,   3, ..., -16, -15, -14],\n",
       "       [ -1,   0,  -1, ..., -40, -41, -40],\n",
       "       ...,\n",
       "       [  1,   0,  -1, ...,  50,  51,  50],\n",
       "       [ -1,   0,   1, ...,  56,  55,  56],\n",
       "       [ -1,  -2,  -3, ...,  12,  11,  10]])"
      ]
     },
     "execution_count": 27,
     "metadata": {},
     "output_type": "execute_result"
    }
   ],
   "source": [
    "walks = steps.cumsum(1)\n",
    "walks"
   ]
  },
  {
   "cell_type": "code",
   "execution_count": 30,
   "metadata": {},
   "outputs": [
    {
     "data": {
      "text/plain": [
       "125"
      ]
     },
     "execution_count": 30,
     "metadata": {},
     "output_type": "execute_result"
    }
   ],
   "source": [
    "walks.max()"
   ]
  },
  {
   "cell_type": "code",
   "execution_count": 31,
   "metadata": {},
   "outputs": [
    {
     "data": {
      "text/plain": [
       "-120"
      ]
     },
     "execution_count": 31,
     "metadata": {},
     "output_type": "execute_result"
    }
   ],
   "source": [
    "walks.min()"
   ]
  },
  {
   "cell_type": "code",
   "execution_count": null,
   "metadata": {},
   "outputs": [],
   "source": []
  }
 ],
 "metadata": {
  "kernelspec": {
   "display_name": "Python 3",
   "language": "python",
   "name": "python3"
  },
  "language_info": {
   "codemirror_mode": {
    "name": "ipython",
    "version": 3
   },
   "file_extension": ".py",
   "mimetype": "text/x-python",
   "name": "python",
   "nbconvert_exporter": "python",
   "pygments_lexer": "ipython3",
   "version": "3.7.6"
  }
 },
 "nbformat": 4,
 "nbformat_minor": 4
}
