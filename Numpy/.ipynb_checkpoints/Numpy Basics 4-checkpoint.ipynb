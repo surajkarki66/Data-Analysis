{
 "cells": [
  {
   "cell_type": "code",
   "execution_count": 3,
   "metadata": {},
   "outputs": [],
   "source": [
    "# File Input and Output With Arrays\n",
    "import numpy as np"
   ]
  },
  {
   "cell_type": "code",
   "execution_count": 4,
   "metadata": {},
   "outputs": [],
   "source": [
    "arr = np.arange(10)\n",
    "# saving .npy file\n",
    "np.save('some_array', arr)"
   ]
  },
  {
   "cell_type": "code",
   "execution_count": 6,
   "metadata": {},
   "outputs": [
    {
     "data": {
      "text/plain": [
       "array([0, 1, 2, 3, 4, 5, 6, 7, 8, 9])"
      ]
     },
     "execution_count": 6,
     "metadata": {},
     "output_type": "execute_result"
    }
   ],
   "source": [
    "# loading .npy file\n",
    "np.load('some_array.npy')"
   ]
  },
  {
   "cell_type": "code",
   "execution_count": 13,
   "metadata": {},
   "outputs": [],
   "source": [
    "arr2 = np.arange(5)\n",
    "np.savez('array_archive.npz', a = arr, b = arr2)"
   ]
  },
  {
   "cell_type": "code",
   "execution_count": 14,
   "metadata": {},
   "outputs": [],
   "source": [
    "#loading .npz file\n",
    "arch = np.load('array_archive.npz')"
   ]
  },
  {
   "cell_type": "code",
   "execution_count": 15,
   "metadata": {},
   "outputs": [
    {
     "data": {
      "text/plain": [
       "array([0, 1, 2, 3, 4])"
      ]
     },
     "execution_count": 15,
     "metadata": {},
     "output_type": "execute_result"
    }
   ],
   "source": [
    "arch['b']"
   ]
  },
  {
   "cell_type": "code",
   "execution_count": 16,
   "metadata": {},
   "outputs": [
    {
     "data": {
      "text/plain": [
       "array([0, 1, 2, 3, 4, 5, 6, 7, 8, 9])"
      ]
     },
     "execution_count": 16,
     "metadata": {},
     "output_type": "execute_result"
    }
   ],
   "source": [
    "arch['a']"
   ]
  },
  {
   "cell_type": "code",
   "execution_count": 17,
   "metadata": {},
   "outputs": [],
   "source": [
    "# to compressed the archive\n",
    "np.savez_compressed('array_compressed.npz', a=arr, b=arr2)"
   ]
  },
  {
   "cell_type": "code",
   "execution_count": 18,
   "metadata": {},
   "outputs": [],
   "source": [
    "# Linear Algebra\n",
    "# Matrix multiplication"
   ]
  },
  {
   "cell_type": "code",
   "execution_count": 19,
   "metadata": {},
   "outputs": [
    {
     "data": {
      "text/plain": [
       "array([[ 1.54831025,  0.97048768],\n",
       "       [ 0.9761847 , -0.70499068],\n",
       "       [-1.79228352,  1.91683661]])"
      ]
     },
     "execution_count": 19,
     "metadata": {},
     "output_type": "execute_result"
    }
   ],
   "source": [
    "x = np.random.randn(3,2)\n",
    "x"
   ]
  },
  {
   "cell_type": "code",
   "execution_count": 21,
   "metadata": {},
   "outputs": [
    {
     "data": {
      "text/plain": [
       "array([[ 0.8995403 ,  0.68708589,  0.19226991],\n",
       "       [-0.91573518,  0.74810429,  1.45795094]])"
      ]
     },
     "execution_count": 21,
     "metadata": {},
     "output_type": "execute_result"
    }
   ],
   "source": [
    "y = np.random.randn(2,3)\n",
    "y"
   ]
  },
  {
   "cell_type": "code",
   "execution_count": 22,
   "metadata": {},
   "outputs": [
    {
     "data": {
      "text/plain": [
       "array([[ 0.50405777,  1.78984812,  1.71261691],\n",
       "       [ 1.52370225,  0.14331618, -0.84015088],\n",
       "       [-3.36754598,  0.20254096,  2.45005154]])"
      ]
     },
     "execution_count": 22,
     "metadata": {},
     "output_type": "execute_result"
    }
   ],
   "source": [
    "np.dot(x, y)"
   ]
  },
  {
   "cell_type": "code",
   "execution_count": 28,
   "metadata": {},
   "outputs": [
    {
     "data": {
      "text/plain": [
       "array([[2.51879794, 2.51879794, 2.51879794],\n",
       "       [0.27119401, 0.27119401, 0.27119401],\n",
       "       [0.12455308, 0.12455308, 0.12455308]])"
      ]
     },
     "execution_count": 28,
     "metadata": {},
     "output_type": "execute_result"
    }
   ],
   "source": [
    "np.dot(x, np.ones((2,3), dtype=np.float64))"
   ]
  },
  {
   "cell_type": "code",
   "execution_count": 64,
   "metadata": {},
   "outputs": [],
   "source": [
    "from numpy.linalg import inv, qr, det, eig, solve"
   ]
  },
  {
   "cell_type": "code",
   "execution_count": 50,
   "metadata": {},
   "outputs": [
    {
     "data": {
      "text/plain": [
       "array([[ 8.50821142,  1.52094115, -0.2885196 ,  3.40901208,  2.27692067],\n",
       "       [ 1.52094115,  2.21832975,  2.8093707 ,  0.9271291 ,  1.23137197],\n",
       "       [-0.2885196 ,  2.8093707 ,  6.13018054,  0.06139126,  0.01913043],\n",
       "       [ 3.40901208,  0.9271291 ,  0.06139126,  1.4696368 ,  1.29105822],\n",
       "       [ 2.27692067,  1.23137197,  0.01913043,  1.29105822,  2.32067145]])"
      ]
     },
     "execution_count": 50,
     "metadata": {},
     "output_type": "execute_result"
    }
   ],
   "source": [
    "X = np.random.randn(5, 4)\n",
    "mat = np.dot(X, X.T)\n",
    "mat"
   ]
  },
  {
   "cell_type": "code",
   "execution_count": 51,
   "metadata": {},
   "outputs": [
    {
     "data": {
      "text/plain": [
       "array([[ 5.33925211e+14,  4.12282738e+14, -1.47880775e+14,\n",
       "        -1.64513391e+15,  1.73835003e+14],\n",
       "       [ 4.12282738e+14,  3.18353681e+14, -1.14189571e+14,\n",
       "        -1.27032832e+15,  1.34230730e+14],\n",
       "       [-1.47880775e+14, -1.14189571e+14,  4.09584023e+13,\n",
       "         4.55651227e+14, -4.81469210e+13],\n",
       "       [-1.64513391e+15, -1.27032832e+15,  4.55651227e+14,\n",
       "         5.06899755e+15, -5.35621567e+14],\n",
       "       [ 1.73835003e+14,  1.34230730e+14, -4.81469210e+13,\n",
       "        -5.35621567e+14,  5.65970807e+13]])"
      ]
     },
     "execution_count": 51,
     "metadata": {},
     "output_type": "execute_result"
    }
   ],
   "source": [
    "inv(mat)"
   ]
  },
  {
   "cell_type": "code",
   "execution_count": 52,
   "metadata": {},
   "outputs": [
    {
     "data": {
      "text/plain": [
       "array([[ 0.51485414, -0.18690441, -0.09955506, -0.68815572, -0.04193383],\n",
       "       [ 0.06408579,  1.35336506, -0.06785195, -0.45292574,  0.08862208],\n",
       "       [-0.15687381,  0.13219541,  1.03829701,  0.58603345, -0.03477911],\n",
       "       [-0.09653755,  0.2378387 , -0.05026658,  0.58695769,  0.09368352],\n",
       "       [ 0.01467281,  0.05881395, -0.00872173,  0.9253275 ,  1.00115862]])"
      ]
     },
     "execution_count": 52,
     "metadata": {},
     "output_type": "execute_result"
    }
   ],
   "source": [
    "np.dot(mat, inv(mat))"
   ]
  },
  {
   "cell_type": "code",
   "execution_count": 53,
   "metadata": {},
   "outputs": [
    {
     "data": {
      "text/plain": [
       "array([8.50821142, 2.21832975, 6.13018054, 1.4696368 , 2.32067145])"
      ]
     },
     "execution_count": 53,
     "metadata": {},
     "output_type": "execute_result"
    }
   ],
   "source": [
    "np.diag(mat)"
   ]
  },
  {
   "cell_type": "code",
   "execution_count": 54,
   "metadata": {},
   "outputs": [
    {
     "data": {
      "text/plain": [
       "array([[-0.88901634,  0.13402566, -0.31924369,  0.03257954, -0.29784074],\n",
       "       [-0.15892195, -0.5272246 ,  0.36273987, -0.71575477, -0.22998464],\n",
       "       [ 0.03014719, -0.81469204, -0.4693623 ,  0.32903193,  0.08249268],\n",
       "       [-0.356205  , -0.03627219,  0.10676025, -0.13496293,  0.91770888],\n",
       "       [-0.23791366, -0.19756656,  0.73130331,  0.60013055, -0.09697078]])"
      ]
     },
     "execution_count": 54,
     "metadata": {},
     "output_type": "execute_result"
    }
   ],
   "source": [
    "q, r = qr(mat)\n",
    "q"
   ]
  },
  {
   "cell_type": "code",
   "execution_count": 55,
   "metadata": {},
   "outputs": [
    {
     "data": {
      "text/plain": [
       "array([[-9.57036562e+00, -2.24319642e+00, -3.15835935e-02,\n",
       "        -4.00681019e+00, -3.23133581e+00],\n",
       "       [ 0.00000000e+00, -3.53139176e+00, -6.52005402e+00,\n",
       "        -3.90302011e-01, -8.64945781e-01],\n",
       "       [ 0.00000000e+00,  0.00000000e+00, -1.74555255e+00,\n",
       "         3.20240286e-01,  1.54574445e+00],\n",
       "       [ 0.00000000e+00,  0.00000000e+00,  0.00000000e+00,\n",
       "         4.41236609e-02,  4.17576032e-01],\n",
       "       [ 0.00000000e+00,  0.00000000e+00,  0.00000000e+00,\n",
       "         0.00000000e+00,  1.02080110e-15]])"
      ]
     },
     "execution_count": 55,
     "metadata": {},
     "output_type": "execute_result"
    }
   ],
   "source": [
    "r"
   ]
  },
  {
   "cell_type": "code",
   "execution_count": 56,
   "metadata": {},
   "outputs": [
    {
     "data": {
      "text/plain": [
       "array([[1, 1, 1, 1],\n",
       "       [1, 1, 1, 1],\n",
       "       [1, 1, 1, 1],\n",
       "       [1, 1, 1, 1]])"
      ]
     },
     "execution_count": 56,
     "metadata": {},
     "output_type": "execute_result"
    }
   ],
   "source": [
    "Y = np.ones((4,4), dtype=np.int64)\n",
    "Y"
   ]
  },
  {
   "cell_type": "code",
   "execution_count": 62,
   "metadata": {},
   "outputs": [],
   "source": [
    "determinant = det(Y)"
   ]
  },
  {
   "cell_type": "code",
   "execution_count": 63,
   "metadata": {},
   "outputs": [
    {
     "data": {
      "text/plain": [
       "0.0"
      ]
     },
     "execution_count": 63,
     "metadata": {},
     "output_type": "execute_result"
    }
   ],
   "source": [
    "determinant"
   ]
  },
  {
   "cell_type": "code",
   "execution_count": 68,
   "metadata": {},
   "outputs": [
    {
     "data": {
      "text/plain": [
       "array([[ 0.91894657, -0.81712271, -0.18611037],\n",
       "       [-0.48142795, -0.07388745,  1.44384198],\n",
       "       [ 0.37469886,  1.78924646, -1.09899547]])"
      ]
     },
     "execution_count": 68,
     "metadata": {},
     "output_type": "execute_result"
    }
   ],
   "source": [
    "z = np.random.randn(3,3)\n",
    "z"
   ]
  },
  {
   "cell_type": "code",
   "execution_count": 69,
   "metadata": {},
   "outputs": [
    {
     "data": {
      "text/plain": [
       "(array([-2.32809834,  0.64934631,  1.42481568]),\n",
       " array([[ 0.09106643,  0.89358641, -0.85171312],\n",
       "        [ 0.55083495,  0.20372331,  0.47877547],\n",
       "        [-0.8296311 ,  0.40000018,  0.21297607]]))"
      ]
     },
     "execution_count": 69,
     "metadata": {},
     "output_type": "execute_result"
    }
   ],
   "source": [
    "eigen = eig(z)\n",
    "eigen"
   ]
  },
  {
   "cell_type": "code",
   "execution_count": 70,
   "metadata": {},
   "outputs": [
    {
     "data": {
      "text/plain": [
       "array([[-2,  2, -3],\n",
       "       [ 2,  1, -6],\n",
       "       [-1, -2,  0]])"
      ]
     },
     "execution_count": 70,
     "metadata": {},
     "output_type": "execute_result"
    }
   ],
   "source": [
    "given = np.array([[-2,2,-3],\n",
    "                 [2, 1, -6],\n",
    "                 [-1, -2, 0]])\n",
    "given"
   ]
  },
  {
   "cell_type": "code",
   "execution_count": 71,
   "metadata": {},
   "outputs": [
    {
     "data": {
      "text/plain": [
       "(array([-3.,  5., -3.]),\n",
       " array([[-0.95257934,  0.40824829, -0.02296692],\n",
       "        [ 0.27216553,  0.81649658,  0.83534731],\n",
       "        [-0.13608276, -0.40824829,  0.54924256]]))"
      ]
     },
     "execution_count": 71,
     "metadata": {},
     "output_type": "execute_result"
    }
   ],
   "source": [
    "eigen1 = eig(given)\n",
    "eigen1\n"
   ]
  },
  {
   "cell_type": "code",
   "execution_count": 72,
   "metadata": {},
   "outputs": [
    {
     "data": {
      "text/plain": [
       "array([[-1.14301995,  1.96511782, -1.23378992,  0.04009501],\n",
       "       [ 0.17880791,  0.98945948,  0.00280711,  1.40369305],\n",
       "       [ 1.16113983, -0.61548972,  1.07563698, -1.99269869],\n",
       "       [ 0.04412372,  0.36617684,  0.65869751, -1.51328851]])"
      ]
     },
     "execution_count": 72,
     "metadata": {},
     "output_type": "execute_result"
    }
   ],
   "source": [
    "# Pseudo random number generations\n",
    "samples = np.random.normal(size=(4, 4))\n",
    "samples"
   ]
  },
  {
   "cell_type": "code",
   "execution_count": 73,
   "metadata": {},
   "outputs": [
    {
     "data": {
      "text/plain": [
       "RandomState(MT19937) at 0x7FD6591865A0"
      ]
     },
     "execution_count": 73,
     "metadata": {},
     "output_type": "execute_result"
    }
   ],
   "source": [
    "rng = np.random.RandomState(123)\n",
    "rng"
   ]
  },
  {
   "cell_type": "code",
   "execution_count": 74,
   "metadata": {},
   "outputs": [
    {
     "data": {
      "text/plain": [
       "array([-1.0856306 ,  0.99734545,  0.2829785 , -1.50629471, -0.57860025,\n",
       "        1.65143654, -2.42667924, -0.42891263,  1.26593626, -0.8667404 ])"
      ]
     },
     "execution_count": 74,
     "metadata": {},
     "output_type": "execute_result"
    }
   ],
   "source": [
    "rng.randn(10)"
   ]
  },
  {
   "cell_type": "code",
   "execution_count": 76,
   "metadata": {},
   "outputs": [
    {
     "data": {
      "text/plain": [
       "array([[[2.63928016e-01, 8.01163857e-01, 8.79496827e-04],\n",
       "        [5.23549873e-01, 8.39519740e-01, 1.75497533e-01],\n",
       "        [3.80465812e-01, 9.71855440e-01, 4.81219715e-01]],\n",
       "\n",
       "       [[7.30356587e-01, 8.82529295e-01, 2.86617492e-01],\n",
       "        [2.61785576e-01, 7.07815801e-01, 4.44405632e-01],\n",
       "        [5.66430118e-01, 9.89258929e-01, 2.00135698e-01]],\n",
       "\n",
       "       [[6.42239346e-01, 5.34148755e-01, 7.22542139e-02],\n",
       "        [5.23472930e-01, 2.62859987e-01, 8.86310738e-01],\n",
       "        [2.91847237e-01, 5.35700088e-01, 8.98040672e-01]]])"
      ]
     },
     "execution_count": 76,
     "metadata": {},
     "output_type": "execute_result"
    }
   ],
   "source": [
    "# Only positive number 3 x 3  of 3 sets.\n",
    "np.random.rand(3,3,3)"
   ]
  },
  {
   "cell_type": "code",
   "execution_count": 77,
   "metadata": {},
   "outputs": [
    {
     "data": {
      "text/plain": [
       "array([[[ 0.3751687 , -0.20880509,  0.16643821],\n",
       "        [ 0.5606687 ,  0.78855228, -1.10624066],\n",
       "        [-0.19595654, -0.8409255 , -0.1758732 ]],\n",
       "\n",
       "       [[-1.02395002, -0.09950999,  0.49196917],\n",
       "        [ 0.58402692,  0.42637461, -0.08546976],\n",
       "        [-1.42999065,  0.23412008, -0.31826099]],\n",
       "\n",
       "       [[-0.38544825,  0.9885506 ,  1.38881463],\n",
       "        [-2.65285649,  0.03227288, -0.67562069],\n",
       "        [ 0.08191486,  0.77250349,  0.7687306 ]]])"
      ]
     },
     "execution_count": 77,
     "metadata": {},
     "output_type": "execute_result"
    }
   ],
   "source": [
    "# for negative number\n",
    "np.random.randn(3,3,3)"
   ]
  },
  {
   "cell_type": "code",
   "execution_count": 81,
   "metadata": {},
   "outputs": [
    {
     "data": {
      "text/plain": [
       "array([[2, 2, 1],\n",
       "       [3, 2, 1],\n",
       "       [1, 3, 2]])"
      ]
     },
     "execution_count": 81,
     "metadata": {},
     "output_type": "execute_result"
    }
   ],
   "source": [
    "#integer\n",
    "np.random.randint(1,4, size=(3,3))"
   ]
  },
  {
   "cell_type": "code",
   "execution_count": null,
   "metadata": {},
   "outputs": [],
   "source": []
  }
 ],
 "metadata": {
  "kernelspec": {
   "display_name": "Python 3",
   "language": "python",
   "name": "python3"
  },
  "language_info": {
   "codemirror_mode": {
    "name": "ipython",
    "version": 3
   },
   "file_extension": ".py",
   "mimetype": "text/x-python",
   "name": "python",
   "nbconvert_exporter": "python",
   "pygments_lexer": "ipython3",
   "version": "3.7.6"
  }
 },
 "nbformat": 4,
 "nbformat_minor": 4
}
